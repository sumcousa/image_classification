{
 "cells": [
  {
   "cell_type": "code",
   "execution_count": 68,
   "metadata": {},
   "outputs": [
    {
     "name": "stdout",
     "output_type": "stream",
     "text": [
      "diag_len 13\n",
      "x []\n",
      "y []\n",
      "len(accumulator) 26\n",
      "accumulator [[0 0 0 ... 0 0 0]\n",
      " [0 0 0 ... 0 0 0]\n",
      " [0 0 0 ... 0 0 0]\n",
      " ...\n",
      " [0 0 0 ... 0 0 0]\n",
      " [0 0 0 ... 0 0 0]\n",
      " [0 0 0 ... 0 0 0]]\n",
      "len(maxima) 26\n",
      "maxima [[False False False ... False False False]\n",
      " [False False False ... False False False]\n",
      " [False False False ... False False False]\n",
      " ...\n",
      " [False False False ... False False False]\n",
      " [False False False ... False False False]\n",
      " [False False False ... False False False]]\n",
      "slices []\n",
      "ax AxesSubplot(0.125,0.125;0.775x0.755)\n"
     ]
    },
    {
     "data": {
      "text/plain": [
       "<Figure size 1000x1000 with 0 Axes>"
      ]
     },
     "execution_count": 68,
     "metadata": {},
     "output_type": "execute_result"
    },
    {
     "data": {
      "image/png": "[encoded data removed]",
      "text/plain": [
       "<Figure size 288x288 with 1 Axes>"
      ]
     },
     "metadata": {
      "needs_background": "light"
     },
     "output_type": "display_data"
    },
    {
     "data": {
      "text/plain": [
       "<Figure size 1000x1000 with 0 Axes>"
      ]
     },
     "metadata": {},
     "output_type": "display_data"
    }
   ],
   "source": [
    "import numpy as np\n",
    "import imageio.v2 as imageio\n",
    "import math\n",
    "import hough_transform as ht\n",
    "import scipy.ndimage as ndimage\n",
    "import os\n",
    "import matplotlib.pyplot as plt\n",
    "import matplotlib.transforms as trans\n",
    "\n",
    "os.chdir('C:\\\\Github\\\\repository\\\\image_classification')\n",
    "\n",
    "#def hough_line(img, angle_step=1, lines_are_white=True, value_threshold=5):\n",
    "    # Rho and Theta ranges\n",
    "angle_step = 1\n",
    "thetas = np.deg2rad(np.arange(-90.0, 90.0, angle_step))\n",
    "#width, height = img.shape\n",
    "width = 9#200000\n",
    "height = 9#200000\n",
    "diag_len = int(round(math.sqrt(width * width + height * height)))\n",
    "rhos = np.linspace(-diag_len, diag_len, diag_len * 2)\n",
    "print('diag_len',diag_len)\n",
    "# Cache some resuable values\n",
    "cos_t = np.cos(thetas)\n",
    "sin_t = np.sin(thetas)\n",
    "num_thetas = len(thetas)\n",
    "\n",
    "# Hough accumulator array of theta vs rho\n",
    "accumulator = np.zeros((2 * diag_len, num_thetas), dtype=np.uint8)\n",
    "#print('accumulator',accumulator)\n",
    "# (row, col) indexes to edges\n",
    "#print('img',img)\n",
    "#are_edges = img > value_threshold if lines_are_white else img < value_threshold\n",
    "#print('are_edges',are_edges)\n",
    "#y_idxs, x_idxs = np.nonzero(are_edges)\n",
    "x_idxs = np.array([1,2,3])\n",
    "y_idxs = np.array([1,2,3])\n",
    "#print('y_idxs',y_idxs)\n",
    "#print('x_idxs',x_idxs)\n",
    "# Vote in the hough accumulator\n",
    "for i in range(len(x_idxs)):\n",
    "    x = x_idxs[i]\n",
    "    y = y_idxs[i]\n",
    "\n",
    "    for t_idx in range(num_thetas):\n",
    "        # Calculate rho. diag_len is added for a positive index\n",
    "        rho = diag_len + int(round(x * cos_t[t_idx] + y * sin_t[t_idx]))\n",
    "        accumulator[rho, t_idx] += 1\n",
    "\n",
    "neighborhood_size = 20\n",
    "threshold = 140\n",
    "\n",
    "data_max = ndimage.maximum_filter(accumulator, neighborhood_size)\n",
    "maxima = (accumulator == data_max)\n",
    "\n",
    "data_min = ndimage.minimum_filter(accumulator, neighborhood_size)\n",
    "diff = ((data_max - data_min) > threshold)\n",
    "maxima[diff == 0] = 0\n",
    "\n",
    "labeled, num_objects = ndimage.label(maxima)\n",
    "slices = ndimage.find_objects(labeled)\n",
    "\n",
    "x, y = [], []\n",
    "for dy,dx in slices:\n",
    "    x_center = (dx.start + dx.stop - 1)/2\n",
    "    x.append(x_center)\n",
    "    y_center = (dy.start + dy.stop - 1)/2    \n",
    "    y.append(y_center)\n",
    "\n",
    "\n",
    "line_index = 1\n",
    "\n",
    "for i,j in zip(y, x):\n",
    "\n",
    "    r = round( (1.0 * i * r_max ) / r_dim,1)\n",
    "    theta = round( (1.0 * j * theta_max) / theta_dim,1)\n",
    "\n",
    "    fig, ax = plt.subplots()\n",
    "    ax.autoscale(False)\n",
    "\n",
    "    px = []\n",
    "    py = []\n",
    "    for i in range(-y_max-40,y_max+40,1):\n",
    "        px.append( math.cos(-theta) * i - math.sin(-theta) * r ) \n",
    "        py.append( math.sin(-theta) * i + math.cos(-theta) * r )\n",
    "\n",
    "    ax.plot(px,py, linewidth=10)\n",
    "\n",
    "    plt.savefig(\"image_line_\"+ \"%02d\" % line_index +\".png\",bbox_inches='tight')\n",
    "\n",
    "print('x',x)\n",
    "print('y',y)\n",
    "print('len(accumulator)',len(accumulator))\n",
    "print('accumulator',accumulator)\n",
    "print('len(maxima)',len(maxima))\n",
    "print('maxima',maxima)\n",
    "print('slices',slices)\n",
    "#print('thetas', thetas)\n",
    "#print('rhos', rhos)\n",
    "# imgpath = 'C:\\\\Github\\\\repository\\\\hough_transform-master\\\\imgs\\\\binary_crosses.png'\n",
    "# img = imageio.imread(imgpath)\n",
    "#ht.show_hough_line(img, accumulator, thetas, rhos, width, height)#, save_path='C:\\\\Github\\\\repository\\\\hough_transform-master\\\\imgs\\\\output.png')\n",
    "fig, ax = plt.subplots(1, 1, figsize=(4, 4))\n",
    "\n",
    "print('ax',ax)\n",
    "# ax[1].set_aspect('equal', adjustable='box')\n",
    "# ax[1].set_title('Hough transform')\n",
    "# ax[1].set_xlabel('Angles (degrees)')\n",
    "# ax[1].set_ylabel('Distance (microns)')\n",
    "# ax[1].axis('image')\n",
    "plt.figure(figsize=[10,10], dpi=100)\n",
    "# plt.savefig('C:\\\\Github\\\\repository\\\\hough_transform-master\\\\imgs\\\\output.png', bbox_inches=trans.Bbox([[0,1],[0,1]]))\n",
    "#plt.show()\n"
   ]
  },
  {
   "cell_type": "code",
   "execution_count": null,
   "metadata": {},
   "outputs": [],
   "source": []
  }
 ],
 "metadata": {
  "interpreter": {
   "hash": "570feb405e2e27c949193ac68f46852414290d515b0ba6e5d90d076ed2284471"
  },
  "kernelspec": {
   "display_name": "Python 3.8.0 64-bit",
   "language": "python",
   "name": "python3"
  },
  "language_info": {
   "codemirror_mode": {
    "name": "ipython",
    "version": 3
   },
   "file_extension": ".py",
   "mimetype": "text/x-python",
   "name": "python",
   "nbconvert_exporter": "python",
   "pygments_lexer": "ipython3",
   "version": "3.8.0"
  },
  "orig_nbformat": 4
 },
 "nbformat": 4,
 "nbformat_minor": 2
}
