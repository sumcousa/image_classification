{
 "cells": [
  {
   "cell_type": "code",
   "execution_count": 1,
   "metadata": {},
   "outputs": [
    {
     "name": "stdout",
     "output_type": "stream",
     "text": [
      "width 10 height 10 shape (100000, 100000)\n",
      "[0 0 1 ... 0 0 0]\n"
     ]
    }
   ],
   "source": [
    "import cv2\n",
    "import os\n",
    "import pandas as pd\n",
    "import sklearn\n",
    "import numpy as np\n",
    "import imageio as iio\n",
    "from matplotlib import pyplot as plt\n",
    "from scipy import sparse\n",
    "import math\n",
    "\n",
    "# Mat img = src.getMat(); Get matrix from image \n",
    "# int i, j;\n",
    "# float irho = 1 / rho;\n",
    "# CV_Assert( img.type() == CV_8UC1 );\n",
    "# CV_Assert( linesMax > 0 );\n",
    "# const uchar* image = img.ptr();\n",
    "# int step = (int)img.step; step is number of bytes for each row\n",
    "\n",
    "#input values\n",
    "# x = np.array([1,2,3,4,5])\n",
    "# y = np.array([1,2,3,4,5])\n",
    "threshold = 3\n",
    "linesMax = 3\n",
    "\n",
    "# z = np.array([np.array([3,3,3]),np.array([1,2,3,4,5]),np.array([3,4,5,6,7])],dtype=object)\n",
    "x = np.array([1,2,3,4,5,6,7,8,9,10], dtype='int8')\n",
    "y = np.array([1,2,3,4,5,6,7,8,9,10], dtype='int8')\n",
    "data = np.array([1,1,1,1,1,1,1,1,1,1], dtype='int8')\n",
    "z = sparse.coo_matrix((data,(x,y)),shape=(100000,100000), dtype='int8').toarray()\n",
    "width = len(x)\n",
    "height = len(y)\n",
    "print('width',width,'height',height,'shape',z.shape)\n",
    "print(z[2])\n",
    "# step = \n",
    "# max_rho = width + height\n",
    "# min_rho = -max_rho\n",
    "# min_theta = -1*math.pi/2\n",
    "# max_theta = math.pi/2\n",
    "# for i in range(width):\n",
    "#    theta = math.atan(y[i]/x[i])\n",
    "#    rho = math.hypot(x[i], y[i])\n",
    "#    # print(np.rad2deg(theta))\n",
    "#    print('rho',rho,'theta',theta)\n",
    "#    numangle = np.round((max_theta - min_theta) / theta)\n",
    "#    numrho = np.round(((max_rho - min_rho) + 1) / rho)\n",
    "#    srcSize = np.array([ width, height ])\n",
    "#    delta = np.array([ rho, theta ])\n",
    "#    dstRoi = np.array([[min_rho, min_theta],[max_rho, max_theta]])\n",
    "#    nz = len(x) #countNonZero(img);\n",
    "#    ipp_linesMax =  np.min(np.array([linesMax, nz*numangle/threshold]))\n",
    "#    print('ipp_linesMax',ipp_linesMax)\n",
    "#    linesCount = 0\n",
    "   # std::vector<Vec2f> _lines(ipp_linesMax);\n",
    "   # IppStatus ok = ippiHoughLineGetSize_8u_C1R(srcSize, delta, ipp_linesMax, &bufferSize);\n",
    "   # Ipp8u* buffer = ippsMalloc_8u_L(bufferSize);\n",
    "   # if (ok >= 0) {ok = CV_INSTRUMENT_FUN_IPP(ippiHoughLine_Region_8u32f_C1R, image, step, srcSize, (IppPointPolar*) &_lines[0], dstRoi, ipp_linesMax, &linesCount, delta, threshold, buffer);};\n",
    "   # ippsFree(buffer);"
   ]
  },
  {
   "cell_type": "code",
   "execution_count": null,
   "metadata": {},
   "outputs": [],
   "source": []
  }
 ],
 "metadata": {
  "kernelspec": {
   "display_name": "Python 3.8.0 64-bit",
   "language": "python",
   "name": "python3"
  },
  "language_info": {
   "codemirror_mode": {
    "name": "ipython",
    "version": 3
   },
   "file_extension": ".py",
   "mimetype": "text/x-python",
   "name": "python",
   "nbconvert_exporter": "python",
   "pygments_lexer": "ipython3",
   "version": "3.8.0"
  },
  "orig_nbformat": 4,
  "vscode": {
   "interpreter": {
    "hash": "570feb405e2e27c949193ac68f46852414290d515b0ba6e5d90d076ed2284471"
   }
  }
 },
 "nbformat": 4,
 "nbformat_minor": 2
}
