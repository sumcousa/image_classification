{
 "cells": [
  {
   "cell_type": "code",
   "execution_count": null,
   "metadata": {},
   "outputs": [],
   "source": [
    "import cv2\n",
    "import os\n",
    "import pandas as pd\n",
    "import sklearn\n",
    "import numpy as np\n",
    "import imageio as iio\n",
    "from matplotlib import pyplot as plt\n",
    "import math\n",
    "\n",
    "# Mat img = src.getMat();\n",
    "# int i, j;\n",
    "# float irho = 1 / rho;\n",
    "# CV_Assert( img.type() == CV_8UC1 );\n",
    "# CV_Assert( linesMax > 0 );\n",
    "# const uchar* image = img.ptr();\n",
    "# int step = (int)img.step;\n",
    "width = 5\n",
    "height = 5\n",
    "max_rho = width + height\n",
    "min_rho = -max_rho\n",
    "min_theta = -1*math.pi/2\n",
    "max_theta = math.pi/2\n",
    "numangle = math.Round((max_theta - min_theta) / theta)\n",
    "numrho = math.Round(((max_rho - min_rho) + 1) / rho)"
   ]
  }
 ],
 "metadata": {
  "language_info": {
   "name": "python"
  },
  "orig_nbformat": 4
 },
 "nbformat": 4,
 "nbformat_minor": 2
}
