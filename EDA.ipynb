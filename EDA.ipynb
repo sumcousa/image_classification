{
 "cells": [
  {
   "cell_type": "code",
   "execution_count": 68,
   "id": "527a128c",
   "metadata": {},
   "outputs": [],
   "source": [
    "import pyodbc\n",
    "import cx_Oracle\n",
    "from cx_Oracle import connect\n",
    "\n",
    "import pandas as pd"
   ]
  },
  {
   "cell_type": "code",
   "execution_count": 69,
   "id": "9a48c8e0",
   "metadata": {},
   "outputs": [
    {
     "name": "stdout",
     "output_type": "stream",
     "text": [
      "19.0.0.0.0\n"
     ]
    }
   ],
   "source": [
    "connection = connect('ML/mltst@SPPMLT')\n",
    "print(connection.version)"
   ]
  },
  {
   "cell_type": "code",
   "execution_count": 70,
   "id": "98d8251a",
   "metadata": {},
   "outputs": [],
   "source": [
    "cur = connection.cursor()\n",
    "cur.execute('select * from LPD_DATA.LPD_WAFER_DETAIL')\n",
    "rows = cur.fetchall()"
   ]
  },
  {
   "cell_type": "code",
   "execution_count": 71,
   "id": "533559bc",
   "metadata": {},
   "outputs": [
    {
     "name": "stdout",
     "output_type": "stream",
     "text": [
      "<class 'list'>\n",
      "183308\n",
      "[(4, 62924093, -82286, -48360, 17714, 51640, 95444.62, -2.61026, '.124', None)]\n"
     ]
    }
   ],
   "source": [
    "print(type(rows))\n",
    "print(len(rows))\n",
    "print(rows[:1])"
   ]
  },
  {
   "cell_type": "code",
   "execution_count": 72,
   "id": "2723fe23",
   "metadata": {},
   "outputs": [
    {
     "name": "stdout",
     "output_type": "stream",
     "text": [
      "[('LPD_ID', <cx_Oracle.DbType DB_TYPE_NUMBER>, 127, None, 0, -127, 0), ('WAFER_NUMBER', <cx_Oracle.DbType DB_TYPE_NUMBER>, 39, None, 38, 0, 0), ('RAW_X_COORDINATE', <cx_Oracle.DbType DB_TYPE_NUMBER>, 127, None, 0, -127, 0), ('RAW_Y_COORDINATE', <cx_Oracle.DbType DB_TYPE_NUMBER>, 127, None, 0, -127, 0), ('X_COORDINATE', <cx_Oracle.DbType DB_TYPE_NUMBER>, 127, None, 0, -127, 1), ('Y_COORDINATE', <cx_Oracle.DbType DB_TYPE_NUMBER>, 127, None, 0, -127, 1), ('R_VALUE', <cx_Oracle.DbType DB_TYPE_NUMBER>, 127, None, 0, -127, 1), ('THETA', <cx_Oracle.DbType DB_TYPE_NUMBER>, 127, None, 0, -127, 1), ('DEFECT_SIZE', <cx_Oracle.DbType DB_TYPE_VARCHAR>, 100, 100, None, None, 1), ('DEFECT_TYPE', <cx_Oracle.DbType DB_TYPE_VARCHAR>, 100, 100, None, None, 1)]\n"
     ]
    }
   ],
   "source": [
    "print(cur.description)"
   ]
  },
  {
   "cell_type": "code",
   "execution_count": 73,
   "id": "100dcba2",
   "metadata": {},
   "outputs": [
    {
     "data": {
      "text/plain": [
       "['LPD_ID', 'WAFER_NUMBER', 'RAW_X_COORDINATE', 'RAW_Y_COORDINATE', 'X_COORDINATE', 'Y_COORDINATE', 'R_VALUE', 'THETA', 'DEFECT_SIZE', 'DEFECT_TYPE']"
      ]
     },
     "execution_count": 73,
     "metadata": {},
     "output_type": "execute_result"
    }
   ],
   "source": [
    "col_names = []\n",
    "for i in range(0, len(cur.description)):\n",
    "    col_names.append(cur.description[i][0])\n",
    "col_names"
   ]
  },
  {
   "cell_type": "code",
   "execution_count": 74,
   "id": "5fcfb0cf",
   "metadata": {},
   "outputs": [],
   "source": [
    "df = pd.DataFrame(rows, columns=col_names)"
   ]
  },
  {
   "cell_type": "code",
   "execution_count": 75,
   "id": "83edecbb",
   "metadata": {},
   "outputs": [
    {
     "data": {
      "text/plain": [
       "(183308, 10)"
      ]
     },
     "execution_count": 75,
     "metadata": {},
     "output_type": "execute_result"
    }
   ],
   "source": [
    "df.shape"
   ]
  },
  {
   "cell_type": "code",
   "execution_count": 76,
   "id": "844310c0",
   "metadata": {},
   "outputs": [
    {
     "data": {
      "text/html": [
       "<div>\n",
       "<style scoped>\n",
       "    .dataframe tbody tr th:only-of-type {\n",
       "        vertical-align: middle;\n",
       "    }\n",
       "\n",
       "    .dataframe tbody tr th {\n",
       "        vertical-align: top;\n",
       "    }\n",
       "\n",
       "    .dataframe thead th {\n",
       "        text-align: right;\n",
       "    }\n",
       "</style>\n",
       "<table border=\"1\" class=\"dataframe\">\n",
       "  <thead>\n",
       "    <tr style=\"text-align: right;\">\n",
       "      <th></th>\n",
       "      <th>LPD_ID</th>\n",
       "      <th>WAFER_NUMBER</th>\n",
       "      <th>RAW_X_COORDINATE</th>\n",
       "      <th>RAW_Y_COORDINATE</th>\n",
       "      <th>X_COORDINATE</th>\n",
       "      <th>Y_COORDINATE</th>\n",
       "      <th>R_VALUE</th>\n",
       "      <th>THETA</th>\n",
       "      <th>DEFECT_SIZE</th>\n",
       "      <th>DEFECT_TYPE</th>\n",
       "    </tr>\n",
       "  </thead>\n",
       "  <tbody>\n",
       "    <tr>\n",
       "      <th>0</th>\n",
       "      <td>4</td>\n",
       "      <td>62924093</td>\n",
       "      <td>-82286</td>\n",
       "      <td>-48360</td>\n",
       "      <td>17714</td>\n",
       "      <td>51640</td>\n",
       "      <td>95444.62</td>\n",
       "      <td>-2.61026</td>\n",
       "      <td>.124</td>\n",
       "      <td>None</td>\n",
       "    </tr>\n",
       "    <tr>\n",
       "      <th>1</th>\n",
       "      <td>10</td>\n",
       "      <td>62924743</td>\n",
       "      <td>40682</td>\n",
       "      <td>23310</td>\n",
       "      <td>140682</td>\n",
       "      <td>123310</td>\n",
       "      <td>46886.90</td>\n",
       "      <td>0.52032</td>\n",
       "      <td>.153</td>\n",
       "      <td>None</td>\n",
       "    </tr>\n",
       "  </tbody>\n",
       "</table>\n",
       "</div>"
      ],
      "text/plain": [
       "   LPD_ID  WAFER_NUMBER  RAW_X_COORDINATE  RAW_Y_COORDINATE  X_COORDINATE  \\\n",
       "0       4      62924093            -82286            -48360         17714   \n",
       "1      10      62924743             40682             23310        140682   \n",
       "\n",
       "   Y_COORDINATE   R_VALUE    THETA DEFECT_SIZE DEFECT_TYPE  \n",
       "0         51640  95444.62 -2.61026        .124        None  \n",
       "1        123310  46886.90  0.52032        .153        None  "
      ]
     },
     "execution_count": 76,
     "metadata": {},
     "output_type": "execute_result"
    }
   ],
   "source": [
    "df.head(2)"
   ]
  },
  {
   "cell_type": "code",
   "execution_count": 77,
   "id": "65a67bf1",
   "metadata": {},
   "outputs": [
    {
     "data": {
      "text/plain": [
       "742"
      ]
     },
     "execution_count": 77,
     "metadata": {},
     "output_type": "execute_result"
    }
   ],
   "source": [
    "df['WAFER_NUMBER'].nunique()"
   ]
  },
  {
   "cell_type": "code",
   "execution_count": 78,
   "id": "98669837",
   "metadata": {},
   "outputs": [],
   "source": [
    "df.sort_values(by=['WAFER_NUMBER','LPD_ID'], ascending = [True, True],inplace=True)"
   ]
  },
  {
   "cell_type": "code",
   "execution_count": 80,
   "id": "adf74b28",
   "metadata": {},
   "outputs": [
    {
     "data": {
      "text/html": [
       "<div>\n",
       "<style scoped>\n",
       "    .dataframe tbody tr th:only-of-type {\n",
       "        vertical-align: middle;\n",
       "    }\n",
       "\n",
       "    .dataframe tbody tr th {\n",
       "        vertical-align: top;\n",
       "    }\n",
       "\n",
       "    .dataframe thead th {\n",
       "        text-align: right;\n",
       "    }\n",
       "</style>\n",
       "<table border=\"1\" class=\"dataframe\">\n",
       "  <thead>\n",
       "    <tr style=\"text-align: right;\">\n",
       "      <th></th>\n",
       "      <th>LPD_ID</th>\n",
       "      <th>WAFER_NUMBER</th>\n",
       "      <th>RAW_X_COORDINATE</th>\n",
       "      <th>RAW_Y_COORDINATE</th>\n",
       "      <th>X_COORDINATE</th>\n",
       "      <th>Y_COORDINATE</th>\n",
       "      <th>R_VALUE</th>\n",
       "      <th>THETA</th>\n",
       "      <th>DEFECT_SIZE</th>\n",
       "      <th>DEFECT_TYPE</th>\n",
       "    </tr>\n",
       "  </thead>\n",
       "  <tbody>\n",
       "    <tr>\n",
       "      <th>116772</th>\n",
       "      <td>24</td>\n",
       "      <td>55825127</td>\n",
       "      <td>9900</td>\n",
       "      <td>-86310</td>\n",
       "      <td>109900</td>\n",
       "      <td>13690</td>\n",
       "      <td>86875.92</td>\n",
       "      <td>-1.45659</td>\n",
       "      <td>.106</td>\n",
       "      <td>None</td>\n",
       "    </tr>\n",
       "    <tr>\n",
       "      <th>116773</th>\n",
       "      <td>24</td>\n",
       "      <td>55825127</td>\n",
       "      <td>-14916</td>\n",
       "      <td>-75690</td>\n",
       "      <td>85084</td>\n",
       "      <td>24310</td>\n",
       "      <td>77145.73</td>\n",
       "      <td>-1.76537</td>\n",
       "      <td>.132</td>\n",
       "      <td>None</td>\n",
       "    </tr>\n",
       "  </tbody>\n",
       "</table>\n",
       "</div>"
      ],
      "text/plain": [
       "        LPD_ID  WAFER_NUMBER  RAW_X_COORDINATE  RAW_Y_COORDINATE  \\\n",
       "116772      24      55825127              9900            -86310   \n",
       "116773      24      55825127            -14916            -75690   \n",
       "\n",
       "        X_COORDINATE  Y_COORDINATE   R_VALUE    THETA DEFECT_SIZE DEFECT_TYPE  \n",
       "116772        109900         13690  86875.92 -1.45659        .106        None  \n",
       "116773         85084         24310  77145.73 -1.76537        .132        None  "
      ]
     },
     "execution_count": 80,
     "metadata": {},
     "output_type": "execute_result"
    }
   ],
   "source": [
    "df.head(2)"
   ]
  },
  {
   "cell_type": "code",
   "execution_count": 47,
   "id": "c9071ffb",
   "metadata": {},
   "outputs": [
    {
     "data": {
      "text/plain": [
       "Series([], Name: DEFECT_TYPE, dtype: int64)"
      ]
     },
     "execution_count": 47,
     "metadata": {},
     "output_type": "execute_result"
    }
   ],
   "source": [
    "df['DEFECT_TYPE'].value_counts()"
   ]
  },
  {
   "cell_type": "code",
   "execution_count": 46,
   "id": "f891e8bd",
   "metadata": {},
   "outputs": [
    {
     "data": {
      "text/plain": [
       "25    19560\n",
       "32    18963\n",
       "23    17140\n",
       "26    16528\n",
       "30    14855\n",
       "31    14436\n",
       "28    13428\n",
       "29    13249\n",
       "21    12390\n",
       "22    10978\n",
       "27    10511\n",
       "24    10269\n",
       "33     9244\n",
       "18      147\n",
       "12      126\n",
       "13      117\n",
       "9       112\n",
       "20      109\n",
       "5       108\n",
       "15      105\n",
       "10       98\n",
       "11       95\n",
       "14       92\n",
       "19       88\n",
       "4        88\n",
       "7        78\n",
       "3        74\n",
       "17       69\n",
       "16       66\n",
       "2        64\n",
       "6        48\n",
       "8        47\n",
       "1        26\n",
       "Name: LPD_ID, dtype: int64"
      ]
     },
     "execution_count": 46,
     "metadata": {},
     "output_type": "execute_result"
    }
   ],
   "source": [
    "df['LPD_ID'].value_counts()"
   ]
  },
  {
   "cell_type": "code",
   "execution_count": 44,
   "id": "76e3d1cb",
   "metadata": {},
   "outputs": [
    {
     "data": {
      "text/plain": [
       ".100    7858\n",
       ".098    7058\n",
       ".111    7049\n",
       ".113    6725\n",
       ".116    6146\n",
       "        ... \n",
       ".214       1\n",
       ".204       1\n",
       ".233       1\n",
       ".235       1\n",
       ".193       1\n",
       "Name: DEFECT_SIZE, Length: 185, dtype: int64"
      ]
     },
     "execution_count": 44,
     "metadata": {},
     "output_type": "execute_result"
    }
   ],
   "source": [
    "df['DEFECT_SIZE'].value_counts()"
   ]
  },
  {
   "cell_type": "code",
   "execution_count": 56,
   "id": "4fde1742",
   "metadata": {},
   "outputs": [
    {
     "name": "stdout",
     "output_type": "stream",
     "text": [
      "No of unique items are: 1\n"
     ]
    }
   ],
   "source": [
    "l = df['DEFECT_TYPE']\n",
    "\n",
    "l1 = []\n",
    " \n",
    "# taking an counter\n",
    "count = 0\n",
    " \n",
    "# traversing the array\n",
    "for item in l:\n",
    "    if item not in l1:\n",
    "        count += 1\n",
    "        l1.append(item)\n",
    " \n",
    "# printing the output\n",
    "print(\"No of unique items are:\", count)"
   ]
  },
  {
   "cell_type": "code",
   "execution_count": 42,
   "id": "f6295e25",
   "metadata": {},
   "outputs": [
    {
     "data": {
      "text/html": [
       "<div>\n",
       "<style scoped>\n",
       "    .dataframe tbody tr th:only-of-type {\n",
       "        vertical-align: middle;\n",
       "    }\n",
       "\n",
       "    .dataframe tbody tr th {\n",
       "        vertical-align: top;\n",
       "    }\n",
       "\n",
       "    .dataframe thead th {\n",
       "        text-align: right;\n",
       "    }\n",
       "</style>\n",
       "<table border=\"1\" class=\"dataframe\">\n",
       "  <thead>\n",
       "    <tr style=\"text-align: right;\">\n",
       "      <th></th>\n",
       "      <th>LPD_ID</th>\n",
       "      <th>WAFER_NUMBER</th>\n",
       "      <th>RAW_X_COORDINATE</th>\n",
       "      <th>RAW_Y_COORDINATE</th>\n",
       "      <th>X_COORDINATE</th>\n",
       "      <th>Y_COORDINATE</th>\n",
       "      <th>R_VALUE</th>\n",
       "      <th>THETA</th>\n",
       "    </tr>\n",
       "  </thead>\n",
       "  <tbody>\n",
       "    <tr>\n",
       "      <th>count</th>\n",
       "      <td>183308.000000</td>\n",
       "      <td>1.833080e+05</td>\n",
       "      <td>183308.000000</td>\n",
       "      <td>183308.000000</td>\n",
       "      <td>183308.000000</td>\n",
       "      <td>183308.000000</td>\n",
       "      <td>183308.000000</td>\n",
       "      <td>183308.000000</td>\n",
       "    </tr>\n",
       "    <tr>\n",
       "      <th>mean</th>\n",
       "      <td>26.896153</td>\n",
       "      <td>5.589301e+07</td>\n",
       "      <td>-464.460640</td>\n",
       "      <td>-1062.493110</td>\n",
       "      <td>99535.539360</td>\n",
       "      <td>98937.506890</td>\n",
       "      <td>51866.372787</td>\n",
       "      <td>-0.052070</td>\n",
       "    </tr>\n",
       "    <tr>\n",
       "      <th>std</th>\n",
       "      <td>3.973995</td>\n",
       "      <td>6.619555e+05</td>\n",
       "      <td>38671.771003</td>\n",
       "      <td>39544.054665</td>\n",
       "      <td>38671.771003</td>\n",
       "      <td>39544.054665</td>\n",
       "      <td>19247.011525</td>\n",
       "      <td>1.807721</td>\n",
       "    </tr>\n",
       "    <tr>\n",
       "      <th>min</th>\n",
       "      <td>1.000000</td>\n",
       "      <td>5.582513e+07</td>\n",
       "      <td>-96549.000000</td>\n",
       "      <td>-96600.000000</td>\n",
       "      <td>3451.000000</td>\n",
       "      <td>3400.000000</td>\n",
       "      <td>334.820000</td>\n",
       "      <td>-3.141430</td>\n",
       "    </tr>\n",
       "    <tr>\n",
       "      <th>25%</th>\n",
       "      <td>24.000000</td>\n",
       "      <td>5.582562e+07</td>\n",
       "      <td>-30624.000000</td>\n",
       "      <td>-34898.000000</td>\n",
       "      <td>69376.000000</td>\n",
       "      <td>65102.000000</td>\n",
       "      <td>40305.420000</td>\n",
       "      <td>-1.647537</td>\n",
       "    </tr>\n",
       "    <tr>\n",
       "      <th>50%</th>\n",
       "      <td>27.000000</td>\n",
       "      <td>5.582595e+07</td>\n",
       "      <td>-554.000000</td>\n",
       "      <td>-1478.000000</td>\n",
       "      <td>99446.000000</td>\n",
       "      <td>98522.000000</td>\n",
       "      <td>51760.540000</td>\n",
       "      <td>-0.076845</td>\n",
       "    </tr>\n",
       "    <tr>\n",
       "      <th>75%</th>\n",
       "      <td>30.000000</td>\n",
       "      <td>5.582615e+07</td>\n",
       "      <td>29581.000000</td>\n",
       "      <td>32962.000000</td>\n",
       "      <td>129581.000000</td>\n",
       "      <td>132962.000000</td>\n",
       "      <td>65842.147500</td>\n",
       "      <td>1.512680</td>\n",
       "    </tr>\n",
       "    <tr>\n",
       "      <th>max</th>\n",
       "      <td>33.000000</td>\n",
       "      <td>6.296342e+07</td>\n",
       "      <td>96730.000000</td>\n",
       "      <td>97184.000000</td>\n",
       "      <td>196730.000000</td>\n",
       "      <td>197184.000000</td>\n",
       "      <td>99726.250000</td>\n",
       "      <td>3.141590</td>\n",
       "    </tr>\n",
       "  </tbody>\n",
       "</table>\n",
       "</div>"
      ],
      "text/plain": [
       "              LPD_ID  WAFER_NUMBER  RAW_X_COORDINATE  RAW_Y_COORDINATE  \\\n",
       "count  183308.000000  1.833080e+05     183308.000000     183308.000000   \n",
       "mean       26.896153  5.589301e+07       -464.460640      -1062.493110   \n",
       "std         3.973995  6.619555e+05      38671.771003      39544.054665   \n",
       "min         1.000000  5.582513e+07     -96549.000000     -96600.000000   \n",
       "25%        24.000000  5.582562e+07     -30624.000000     -34898.000000   \n",
       "50%        27.000000  5.582595e+07       -554.000000      -1478.000000   \n",
       "75%        30.000000  5.582615e+07      29581.000000      32962.000000   \n",
       "max        33.000000  6.296342e+07      96730.000000      97184.000000   \n",
       "\n",
       "        X_COORDINATE   Y_COORDINATE        R_VALUE          THETA  \n",
       "count  183308.000000  183308.000000  183308.000000  183308.000000  \n",
       "mean    99535.539360   98937.506890   51866.372787      -0.052070  \n",
       "std     38671.771003   39544.054665   19247.011525       1.807721  \n",
       "min      3451.000000    3400.000000     334.820000      -3.141430  \n",
       "25%     69376.000000   65102.000000   40305.420000      -1.647537  \n",
       "50%     99446.000000   98522.000000   51760.540000      -0.076845  \n",
       "75%    129581.000000  132962.000000   65842.147500       1.512680  \n",
       "max    196730.000000  197184.000000   99726.250000       3.141590  "
      ]
     },
     "execution_count": 42,
     "metadata": {},
     "output_type": "execute_result"
    }
   ],
   "source": [
    "df.describe()"
   ]
  },
  {
   "cell_type": "code",
   "execution_count": 86,
   "id": "9f9f53bf",
   "metadata": {},
   "outputs": [
    {
     "data": {
      "text/html": [
       "<div>\n",
       "<style scoped>\n",
       "    .dataframe tbody tr th:only-of-type {\n",
       "        vertical-align: middle;\n",
       "    }\n",
       "\n",
       "    .dataframe tbody tr th {\n",
       "        vertical-align: top;\n",
       "    }\n",
       "\n",
       "    .dataframe thead th {\n",
       "        text-align: right;\n",
       "    }\n",
       "</style>\n",
       "<table border=\"1\" class=\"dataframe\">\n",
       "  <thead>\n",
       "    <tr style=\"text-align: right;\">\n",
       "      <th></th>\n",
       "      <th>LPD_ID</th>\n",
       "      <th>WAFER_NUMBER</th>\n",
       "      <th>RAW_X_COORDINATE</th>\n",
       "      <th>RAW_Y_COORDINATE</th>\n",
       "      <th>X_COORDINATE</th>\n",
       "      <th>Y_COORDINATE</th>\n",
       "      <th>R_VALUE</th>\n",
       "      <th>THETA</th>\n",
       "      <th>DEFECT_SIZE</th>\n",
       "      <th>DEFECT_TYPE</th>\n",
       "    </tr>\n",
       "  </thead>\n",
       "  <tbody>\n",
       "    <tr>\n",
       "      <th>34093</th>\n",
       "      <td>32</td>\n",
       "      <td>55825949</td>\n",
       "      <td>-9346</td>\n",
       "      <td>-76065</td>\n",
       "      <td>90654</td>\n",
       "      <td>23935</td>\n",
       "      <td>76637.01</td>\n",
       "      <td>-1.69305</td>\n",
       "      <td>.108</td>\n",
       "      <td>None</td>\n",
       "    </tr>\n",
       "    <tr>\n",
       "      <th>34094</th>\n",
       "      <td>32</td>\n",
       "      <td>55825949</td>\n",
       "      <td>-22414</td>\n",
       "      <td>-75225</td>\n",
       "      <td>77586</td>\n",
       "      <td>24775</td>\n",
       "      <td>78493.24</td>\n",
       "      <td>-1.86038</td>\n",
       "      <td>.123</td>\n",
       "      <td>None</td>\n",
       "    </tr>\n",
       "    <tr>\n",
       "      <th>34095</th>\n",
       "      <td>32</td>\n",
       "      <td>55825949</td>\n",
       "      <td>-3168</td>\n",
       "      <td>-73545</td>\n",
       "      <td>96832</td>\n",
       "      <td>26455</td>\n",
       "      <td>73613.20</td>\n",
       "      <td>-1.61385</td>\n",
       "      <td>.127</td>\n",
       "      <td>None</td>\n",
       "    </tr>\n",
       "    <tr>\n",
       "      <th>34096</th>\n",
       "      <td>32</td>\n",
       "      <td>55825949</td>\n",
       "      <td>-20513</td>\n",
       "      <td>-72435</td>\n",
       "      <td>79487</td>\n",
       "      <td>27565</td>\n",
       "      <td>75283.55</td>\n",
       "      <td>-1.84676</td>\n",
       "      <td>.101</td>\n",
       "      <td>None</td>\n",
       "    </tr>\n",
       "    <tr>\n",
       "      <th>34097</th>\n",
       "      <td>32</td>\n",
       "      <td>55825949</td>\n",
       "      <td>-10138</td>\n",
       "      <td>-71415</td>\n",
       "      <td>89862</td>\n",
       "      <td>28585</td>\n",
       "      <td>72131.00</td>\n",
       "      <td>-1.71181</td>\n",
       "      <td>.119</td>\n",
       "      <td>None</td>\n",
       "    </tr>\n",
       "    <tr>\n",
       "      <th>...</th>\n",
       "      <td>...</td>\n",
       "      <td>...</td>\n",
       "      <td>...</td>\n",
       "      <td>...</td>\n",
       "      <td>...</td>\n",
       "      <td>...</td>\n",
       "      <td>...</td>\n",
       "      <td>...</td>\n",
       "      <td>...</td>\n",
       "      <td>...</td>\n",
       "    </tr>\n",
       "    <tr>\n",
       "      <th>178803</th>\n",
       "      <td>32</td>\n",
       "      <td>55825949</td>\n",
       "      <td>-73260</td>\n",
       "      <td>-23625</td>\n",
       "      <td>26740</td>\n",
       "      <td>76375</td>\n",
       "      <td>76975.11</td>\n",
       "      <td>-2.82964</td>\n",
       "      <td>.133</td>\n",
       "      <td>None</td>\n",
       "    </tr>\n",
       "    <tr>\n",
       "      <th>178816</th>\n",
       "      <td>32</td>\n",
       "      <td>55825949</td>\n",
       "      <td>-82922</td>\n",
       "      <td>-21285</td>\n",
       "      <td>17078</td>\n",
       "      <td>78715</td>\n",
       "      <td>85610.22</td>\n",
       "      <td>-2.89033</td>\n",
       "      <td>.099</td>\n",
       "      <td>None</td>\n",
       "    </tr>\n",
       "    <tr>\n",
       "      <th>178817</th>\n",
       "      <td>32</td>\n",
       "      <td>55825949</td>\n",
       "      <td>-36973</td>\n",
       "      <td>-12585</td>\n",
       "      <td>63027</td>\n",
       "      <td>87415</td>\n",
       "      <td>39056.18</td>\n",
       "      <td>-2.81351</td>\n",
       "      <td>.132</td>\n",
       "      <td>None</td>\n",
       "    </tr>\n",
       "    <tr>\n",
       "      <th>178818</th>\n",
       "      <td>32</td>\n",
       "      <td>55825949</td>\n",
       "      <td>-23826</td>\n",
       "      <td>4440</td>\n",
       "      <td>76174</td>\n",
       "      <td>104440</td>\n",
       "      <td>24236.17</td>\n",
       "      <td>2.95735</td>\n",
       "      <td>.134</td>\n",
       "      <td>None</td>\n",
       "    </tr>\n",
       "    <tr>\n",
       "      <th>178819</th>\n",
       "      <td>32</td>\n",
       "      <td>55825949</td>\n",
       "      <td>41804</td>\n",
       "      <td>65820</td>\n",
       "      <td>141804</td>\n",
       "      <td>165820</td>\n",
       "      <td>77973.37</td>\n",
       "      <td>1.00495</td>\n",
       "      <td>.127</td>\n",
       "      <td>None</td>\n",
       "    </tr>\n",
       "  </tbody>\n",
       "</table>\n",
       "<p>1645 rows × 10 columns</p>\n",
       "</div>"
      ],
      "text/plain": [
       "        LPD_ID  WAFER_NUMBER  RAW_X_COORDINATE  RAW_Y_COORDINATE  \\\n",
       "34093       32      55825949             -9346            -76065   \n",
       "34094       32      55825949            -22414            -75225   \n",
       "34095       32      55825949             -3168            -73545   \n",
       "34096       32      55825949            -20513            -72435   \n",
       "34097       32      55825949            -10138            -71415   \n",
       "...        ...           ...               ...               ...   \n",
       "178803      32      55825949            -73260            -23625   \n",
       "178816      32      55825949            -82922            -21285   \n",
       "178817      32      55825949            -36973            -12585   \n",
       "178818      32      55825949            -23826              4440   \n",
       "178819      32      55825949             41804             65820   \n",
       "\n",
       "        X_COORDINATE  Y_COORDINATE   R_VALUE    THETA DEFECT_SIZE DEFECT_TYPE  \n",
       "34093          90654         23935  76637.01 -1.69305        .108        None  \n",
       "34094          77586         24775  78493.24 -1.86038        .123        None  \n",
       "34095          96832         26455  73613.20 -1.61385        .127        None  \n",
       "34096          79487         27565  75283.55 -1.84676        .101        None  \n",
       "34097          89862         28585  72131.00 -1.71181        .119        None  \n",
       "...              ...           ...       ...      ...         ...         ...  \n",
       "178803         26740         76375  76975.11 -2.82964        .133        None  \n",
       "178816         17078         78715  85610.22 -2.89033        .099        None  \n",
       "178817         63027         87415  39056.18 -2.81351        .132        None  \n",
       "178818         76174        104440  24236.17  2.95735        .134        None  \n",
       "178819        141804        165820  77973.37  1.00495        .127        None  \n",
       "\n",
       "[1645 rows x 10 columns]"
      ]
     },
     "execution_count": 86,
     "metadata": {},
     "output_type": "execute_result"
    }
   ],
   "source": [
    "df[df['WAFER_NUMBER']==55825949]"
   ]
  },
  {
   "cell_type": "code",
   "execution_count": 87,
   "id": "5d1b0943",
   "metadata": {},
   "outputs": [
    {
     "data": {
      "text/html": [
       "<div>\n",
       "<style scoped>\n",
       "    .dataframe tbody tr th:only-of-type {\n",
       "        vertical-align: middle;\n",
       "    }\n",
       "\n",
       "    .dataframe tbody tr th {\n",
       "        vertical-align: top;\n",
       "    }\n",
       "\n",
       "    .dataframe thead th {\n",
       "        text-align: right;\n",
       "    }\n",
       "</style>\n",
       "<table border=\"1\" class=\"dataframe\">\n",
       "  <thead>\n",
       "    <tr style=\"text-align: right;\">\n",
       "      <th></th>\n",
       "      <th>LPD_ID</th>\n",
       "      <th>WAFER_NUMBER</th>\n",
       "      <th>RAW_X_COORDINATE</th>\n",
       "      <th>RAW_Y_COORDINATE</th>\n",
       "      <th>X_COORDINATE</th>\n",
       "      <th>Y_COORDINATE</th>\n",
       "      <th>R_VALUE</th>\n",
       "      <th>THETA</th>\n",
       "      <th>DEFECT_SIZE</th>\n",
       "      <th>DEFECT_TYPE</th>\n",
       "    </tr>\n",
       "  </thead>\n",
       "  <tbody>\n",
       "    <tr>\n",
       "      <th>467</th>\n",
       "      <td>14</td>\n",
       "      <td>62389743</td>\n",
       "      <td>-41709</td>\n",
       "      <td>80558</td>\n",
       "      <td>58291</td>\n",
       "      <td>180558</td>\n",
       "      <td>90715.11</td>\n",
       "      <td>2.04854</td>\n",
       "      <td>.150</td>\n",
       "      <td>None</td>\n",
       "    </tr>\n",
       "  </tbody>\n",
       "</table>\n",
       "</div>"
      ],
      "text/plain": [
       "     LPD_ID  WAFER_NUMBER  RAW_X_COORDINATE  RAW_Y_COORDINATE  X_COORDINATE  \\\n",
       "467      14      62389743            -41709             80558         58291   \n",
       "\n",
       "     Y_COORDINATE   R_VALUE    THETA DEFECT_SIZE DEFECT_TYPE  \n",
       "467        180558  90715.11  2.04854        .150        None  "
      ]
     },
     "execution_count": 87,
     "metadata": {},
     "output_type": "execute_result"
    }
   ],
   "source": [
    "df[df['WAFER_NUMBER']==62389743]"
   ]
  },
  {
   "cell_type": "code",
   "execution_count": 85,
   "id": "d3c940c0",
   "metadata": {},
   "outputs": [
    {
     "data": {
      "text/plain": [
       "55825949    1645\n",
       "55825963    1596\n",
       "55825779    1592\n",
       "55826029    1511\n",
       "55825783    1501\n",
       "            ... \n",
       "62389745       1\n",
       "62390645       1\n",
       "62924047       1\n",
       "62390649       1\n",
       "62389743       1\n",
       "Name: WAFER_NUMBER, Length: 742, dtype: int64"
      ]
     },
     "execution_count": 85,
     "metadata": {},
     "output_type": "execute_result"
    }
   ],
   "source": [
    "df['WAFER_NUMBER'].value_counts(0)"
   ]
  },
  {
   "cell_type": "code",
   "execution_count": 14,
   "id": "ccd96e28",
   "metadata": {},
   "outputs": [
    {
     "name": "stdout",
     "output_type": "stream",
     "text": [
      "gray <function <lambda> at 0x00000258810A4A60>\n"
     ]
    },
    {
     "data": {
      "image/png": "[encoded data removed]",
      "text/plain": [
       "<Figure size 360x360 with 1 Axes>"
      ]
     },
     "metadata": {
      "needs_background": "light"
     },
     "output_type": "display_data"
    }
   ],
   "source": [
    "import cv2\n",
    "import numpy as np\n",
    "import imageio as iio\n",
    "from matplotlib import pyplot as plt\n",
    "pic = iio.imread(r'c:\\users\\akumar\\Downloads\\image.png') \n",
    "pic = pic[20:210, 48:230, :]\n",
    "gray = lambda rgb : np.dot(rgb[... , :3] , [0.299 , 0.587, 0.114])  \n",
    "print(\"gray\",gray)\n",
    "gray = gray(pic) \n",
    "plt.figure( figsize = (5,5))\n",
    "plt.imshow(gray, cmap = plt.get_cmap(name = 'gray')) \n",
    "plt.show()\n",
    "rho = 1\n",
    "theta = np.pi/180\n",
    "#lines = cv2.HoughLines(gray, rho, theta, 0, 0, 0, np.pi) "
   ]
  },
  {
   "cell_type": "code",
   "execution_count": 12,
   "id": "cc2a8b42",
   "metadata": {},
   "outputs": [],
   "source": [
    "x = [90654.99378204345703, 424.4607162475586, 665.4505157470703, 665.1176452636719]\n",
    "\n",
    "y = [709.4012403488159, 253.38330745697021, 519.5582628250122, 519.5164632797241]"
   ]
  },
  {
   "cell_type": "code",
   "execution_count": 13,
   "id": "3d0c1b7e",
   "metadata": {},
   "outputs": [
    {
     "ename": "NameError",
     "evalue": "name 'p_transform_path' is not defined",
     "output_type": "error",
     "traceback": [
      "\u001b[1;31m---------------------------------------------------------------------------\u001b[0m",
      "\u001b[1;31mNameError\u001b[0m                                 Traceback (most recent call last)",
      "Input \u001b[1;32mIn [13]\u001b[0m, in \u001b[0;36m<cell line: 2>\u001b[1;34m()\u001b[0m\n\u001b[0;32m      1\u001b[0m \u001b[38;5;28;01mfrom\u001b[39;00m \u001b[38;5;21;01mmatplotlib\u001b[39;00m \u001b[38;5;28;01mimport\u001b[39;00m pyplot \u001b[38;5;28;01mas\u001b[39;00m plt\n\u001b[1;32m----> 2\u001b[0m im \u001b[38;5;241m=\u001b[39m plt\u001b[38;5;241m.\u001b[39mimread(\u001b[43mp_transform_path\u001b[49m)\n\u001b[0;32m      3\u001b[0m implot \u001b[38;5;241m=\u001b[39m plt\u001b[38;5;241m.\u001b[39mimshow(im)\n\u001b[0;32m      4\u001b[0m \u001b[38;5;28;01mfor\u001b[39;00m p,q \u001b[38;5;129;01min\u001b[39;00m \u001b[38;5;28mzip\u001b[39m(x,y):\n",
      "\u001b[1;31mNameError\u001b[0m: name 'p_transform_path' is not defined"
     ]
    }
   ],
   "source": [
    "from matplotlib import pyplot as plt\n",
    "im = plt.imread(p_transform_path)\n",
    "implot = plt.imshow(im)\n",
    "for p,q in zip(x,y):\n",
    "    x_cord = p # try this change (p and q are already the coordinates)\n",
    "    y_cord = q\n",
    "    plt.scatter([x_cord], [y_cord])\n",
    "plt.show()"
   ]
  },
  {
   "cell_type": "code",
   "execution_count": 14,
   "id": "ee53128d",
   "metadata": {},
   "outputs": [
    {
     "data": {
      "image/png": "[encoded data removed]",
      "text/plain": [
       "<Figure size 432x288 with 1 Axes>"
      ]
     },
     "metadata": {
      "needs_background": "light"
     },
     "output_type": "display_data"
    }
   ],
   "source": [
    "import numpy as np\n",
    "import matplotlib.pyplot as plt\n",
    "\n",
    "\n",
    "#x = np.random.rand(N)\n",
    "#y = np.random.rand(N)\n",
    "\n",
    "plt.scatter(x, y)\n",
    "plt.show()"
   ]
  },
  {
   "cell_type": "code",
   "execution_count": null,
   "id": "8372d3dc",
   "metadata": {},
   "outputs": [],
   "source": []
  }
 ],
 "metadata": {
  "kernelspec": {
   "display_name": "Python 3 (ipykernel)",
   "language": "python",
   "name": "python3"
  },
  "language_info": {
   "codemirror_mode": {
    "name": "ipython",
    "version": 3
   },
   "file_extension": ".py",
   "mimetype": "text/x-python",
   "name": "python",
   "nbconvert_exporter": "python",
   "pygments_lexer": "ipython3",
   "version": "3.9.12"
  }
 },
 "nbformat": 4,
 "nbformat_minor": 5
}
