{
 "cells": [
  {
   "cell_type": "code",
   "execution_count": 25,
   "metadata": {},
   "outputs": [],
   "source": [
    "from scipy.sparse import csr_matrix, rand\n",
    "import tables as tb\n",
    "import numpy as np\n",
    "\n",
    "random_state = np.random.RandomState(1999)\n",
    "\n",
    "def make_random_cluster_points(n_samples, random_state=random_state):\n",
    "    mu_options = np.array([(-1, -1), (1, 1), (1, -1), (-1, 1)])\n",
    "    sigma = 0.2\n",
    "    mu_choices = random_state.randint(0, len(mu_options), size=n_samples)\n",
    "    means = mu_options[mu_choices]\n",
    "    return means + np.random.randn(n_samples, 2) * sigma, mu_choices\n",
    "\n",
    "def plot_clusters(data, clusters, name):\n",
    "    plt.figure()\n",
    "    colors = [\"#9b59b6\", \"#3498db\", \"#e74c3c\", \"#2ecc71\"]\n",
    "    for i in np.unique(clusters):\n",
    "        plt.scatter(data[clusters==i, 0], data[clusters==i, 1], color=colors[i])\n",
    "    plt.axis('off')\n",
    "    plt.title('Plot from %s' % name)"
   ]
  },
  {
   "cell_type": "code",
   "execution_count": 28,
   "metadata": {},
   "outputs": [
    {
     "ename": "MemoryError",
     "evalue": "Unable to allocate 37.3 GiB for an array with shape (10000000000,) and data type int32",
     "output_type": "error",
     "traceback": [
      "\u001b[1;31m---------------------------------------------------------------------------\u001b[0m",
      "\u001b[1;31mMemoryError\u001b[0m                               Traceback (most recent call last)",
      "\u001b[1;32mUntitled-1.ipynb Cell 2'\u001b[0m in \u001b[0;36m<cell line: 3>\u001b[1;34m()\u001b[0m\n\u001b[0;32m      <a href='vscode-notebook-cell:Untitled-1.ipynb?jupyter-notebook#ch0000001untitled?line=0'>1</a>\u001b[0m \u001b[39m# if hdf5_file.isopen:\u001b[39;00m\n\u001b[0;32m      <a href='vscode-notebook-cell:Untitled-1.ipynb?jupyter-notebook#ch0000001untitled?line=1'>2</a>\u001b[0m \u001b[39m#     hdf5_file.close()\u001b[39;00m\n\u001b[1;32m----> <a href='vscode-notebook-cell:Untitled-1.ipynb?jupyter-notebook#ch0000001untitled?line=2'>3</a>\u001b[0m sample_data, sample_clusters \u001b[39m=\u001b[39m make_random_cluster_points(\u001b[39m10000000000\u001b[39;49m)\n\u001b[0;32m      <a href='vscode-notebook-cell:Untitled-1.ipynb?jupyter-notebook#ch0000001untitled?line=3'>4</a>\u001b[0m hdf5_path \u001b[39m=\u001b[39m \u001b[39m\"\u001b[39m\u001b[39mc:\u001b[39m\u001b[39m\\\\\u001b[39;00m\u001b[39mtemp\u001b[39m\u001b[39m\\\\\u001b[39;00m\u001b[39mmy_data.hdf5\u001b[39m\u001b[39m\"\u001b[39m\n\u001b[0;32m      <a href='vscode-notebook-cell:Untitled-1.ipynb?jupyter-notebook#ch0000001untitled?line=4'>5</a>\u001b[0m hdf5_file \u001b[39m=\u001b[39m tb\u001b[39m.\u001b[39mopen_file(hdf5_path, mode\u001b[39m=\u001b[39m\u001b[39m'\u001b[39m\u001b[39mw\u001b[39m\u001b[39m'\u001b[39m)\n",
      "\u001b[1;32mUntitled-1.ipynb Cell 1'\u001b[0m in \u001b[0;36mmake_random_cluster_points\u001b[1;34m(n_samples, random_state)\u001b[0m\n\u001b[0;32m      <a href='vscode-notebook-cell:Untitled-1.ipynb?jupyter-notebook#ch0000000untitled?line=7'>8</a>\u001b[0m mu_options \u001b[39m=\u001b[39m np\u001b[39m.\u001b[39marray([(\u001b[39m-\u001b[39m\u001b[39m1\u001b[39m, \u001b[39m-\u001b[39m\u001b[39m1\u001b[39m), (\u001b[39m1\u001b[39m, \u001b[39m1\u001b[39m), (\u001b[39m1\u001b[39m, \u001b[39m-\u001b[39m\u001b[39m1\u001b[39m), (\u001b[39m-\u001b[39m\u001b[39m1\u001b[39m, \u001b[39m1\u001b[39m)])\n\u001b[0;32m      <a href='vscode-notebook-cell:Untitled-1.ipynb?jupyter-notebook#ch0000000untitled?line=8'>9</a>\u001b[0m sigma \u001b[39m=\u001b[39m \u001b[39m0.2\u001b[39m\n\u001b[1;32m---> <a href='vscode-notebook-cell:Untitled-1.ipynb?jupyter-notebook#ch0000000untitled?line=9'>10</a>\u001b[0m mu_choices \u001b[39m=\u001b[39m random_state\u001b[39m.\u001b[39;49mrandint(\u001b[39m0\u001b[39;49m, \u001b[39mlen\u001b[39;49m(mu_options), size\u001b[39m=\u001b[39;49mn_samples)\n\u001b[0;32m     <a href='vscode-notebook-cell:Untitled-1.ipynb?jupyter-notebook#ch0000000untitled?line=10'>11</a>\u001b[0m means \u001b[39m=\u001b[39m mu_options[mu_choices]\n\u001b[0;32m     <a href='vscode-notebook-cell:Untitled-1.ipynb?jupyter-notebook#ch0000000untitled?line=11'>12</a>\u001b[0m \u001b[39mreturn\u001b[39;00m means \u001b[39m+\u001b[39m np\u001b[39m.\u001b[39mrandom\u001b[39m.\u001b[39mrandn(n_samples, \u001b[39m2\u001b[39m) \u001b[39m*\u001b[39m sigma, mu_choices\n",
      "File \u001b[1;32mmtrand.pyx:745\u001b[0m, in \u001b[0;36mnumpy.random.mtrand.RandomState.randint\u001b[1;34m()\u001b[0m\n",
      "File \u001b[1;32m_bounded_integers.pyx:1355\u001b[0m, in \u001b[0;36mnumpy.random._bounded_integers._rand_int32\u001b[1;34m()\u001b[0m\n",
      "\u001b[1;31mMemoryError\u001b[0m: Unable to allocate 37.3 GiB for an array with shape (10000000000,) and data type int32"
     ]
    }
   ],
   "source": [
    "# if hdf5_file.isopen:\n",
    "#     hdf5_file.close()\n",
    "sample_data, sample_clusters = make_random_cluster_points(10000000000)\n",
    "hdf5_path = \"c:\\\\temp\\\\my_data.hdf5\"\n",
    "hdf5_file = tb.open_file(hdf5_path, mode='w')\n",
    "data_storage = hdf5_file.create_earray(hdf5_file.root, 'data', sample_data)\n",
    "clusters_storage = hdf5_file.create_earray(hdf5_file.root, 'clusters', sample_clusters)\n",
    "hdf5_file.close()"
   ]
  },
  {
   "cell_type": "code",
   "execution_count": null,
   "metadata": {},
   "outputs": [],
   "source": []
  }
 ],
 "metadata": {
  "kernelspec": {
   "display_name": "Python 3.9.7 ('base')",
   "language": "python",
   "name": "python3"
  },
  "language_info": {
   "codemirror_mode": {
    "name": "ipython",
    "version": 3
   },
   "file_extension": ".py",
   "mimetype": "text/x-python",
   "name": "python",
   "nbconvert_exporter": "python",
   "pygments_lexer": "ipython3",
   "version": "3.9.7"
  },
  "orig_nbformat": 4,
  "vscode": {
   "interpreter": {
    "hash": "d5ca864e85f8d526a861396cb731218708c2fd774c56560cc75f1c01be417ef1"
   }
  }
 },
 "nbformat": 4,
 "nbformat_minor": 2
}
