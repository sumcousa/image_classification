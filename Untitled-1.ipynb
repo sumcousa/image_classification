{
 "cells": [
  {
   "cell_type": "code",
   "execution_count": 10,
   "metadata": {},
   "outputs": [],
   "source": [
    "from io import StringIO\n",
    "import struct\n",
    "\n",
    "def getImageInfo(data):\n",
    "    print('data[:20]',data[:20])\n",
    "    data = str(data)\n",
    "    size = len(data)\n",
    "    print('size',size)\n",
    "    height = -1\n",
    "    width = -1\n",
    "    content_type = ''\n",
    "\n",
    "    # handle GIFs\n",
    "    if (size >= 10) and data[:6] in ('GIF87a', 'GIF89a'):\n",
    "        # Check to see if content_type is correct\n",
    "        content_type = 'image/gif'\n",
    "        w, h = struct.unpack(\"<HH\", data[6:10])\n",
    "        width = int(w)\n",
    "        height = int(h)\n",
    "\n",
    "    # See PNG 2. Edition spec (http://www.w3.org/TR/PNG/)\n",
    "    # Bytes 0-7 are below, 4-byte chunk length, then 'IHDR'\n",
    "    # and finally the 4-byte width, height\n",
    "    elif ((size >= 24) and data.startswith('\\211PNG\\r\\n\\032\\n')\n",
    "          and (data[12:16] == 'IHDR')):\n",
    "        content_type = 'image/png'\n",
    "        w, h = struct.unpack(\">LL\", data[16:24])\n",
    "        width = int(w)\n",
    "        height = int(h)\n",
    "\n",
    "    # Maybe this is for an older PNG version.\n",
    "    elif (size >= 16) and data.startswith('\\211PNG\\r\\n\\032\\n'):\n",
    "        # Check to see if we have the right content type\n",
    "        content_type = 'image/png'\n",
    "        w, h = struct.unpack(\">LL\", data[8:16])\n",
    "        width = int(w)\n",
    "        height = int(h)\n",
    "\n",
    "    # handle JPEGs\n",
    "    elif (size >= 2) and data.startswith('\\377\\330'):\n",
    "        content_type = 'image/jpeg'\n",
    "        jpeg = StringIO.StringIO(data)\n",
    "        jpeg.read(2)\n",
    "        b = jpeg.read(1)\n",
    "        try:\n",
    "            while (b and ord(b) != 0xDA):\n",
    "                while (ord(b) != 0xFF): b = jpeg.read(1)\n",
    "                while (ord(b) == 0xFF): b = jpeg.read(1)\n",
    "                if (ord(b) >= 0xC0 and ord(b) <= 0xC3):\n",
    "                    jpeg.read(3)\n",
    "                    h, w = struct.unpack(\">HH\", jpeg.read(4))\n",
    "                    break\n",
    "                else:\n",
    "                    jpeg.read(int(struct.unpack(\">H\", jpeg.read(2))[0])-2)\n",
    "                b = jpeg.read(1)\n",
    "            width = int(w)\n",
    "            height = int(h)\n",
    "        except struct.error:\n",
    "            pass\n",
    "        except ValueError:\n",
    "            pass\n",
    "\n",
    "    return content_type, width, height"
   ]
  },
  {
   "cell_type": "code",
   "execution_count": 49,
   "metadata": {},
   "outputs": [
    {
     "ename": "TypeError",
     "evalue": "object of type 'NoneType' has no len()",
     "output_type": "error",
     "traceback": [
      "\u001b[1;31m---------------------------------------------------------------------------\u001b[0m",
      "\u001b[1;31mTypeError\u001b[0m                                 Traceback (most recent call last)",
      "\u001b[1;32msumcousa\\image_classification\\Untitled-1.ipynb Cell 2'\u001b[0m in \u001b[0;36m<cell line: 4>\u001b[1;34m()\u001b[0m\n\u001b[0;32m      <a href='vscode-notebook-cell://github/sumcousa/image_classification/Untitled-1.ipynb#ch0000001vscode-vfs?line=1'>2</a>\u001b[0m \u001b[39m# getImageInfo(cv2.imread(r'C:\\Github\\repository\\image_classification\\imgs\\binary_crosses.png'))\u001b[39;00m\n\u001b[0;32m      <a href='vscode-notebook-cell://github/sumcousa/image_classification/Untitled-1.ipynb#ch0000001vscode-vfs?line=2'>3</a>\u001b[0m dat \u001b[39m=\u001b[39m cv2\u001b[39m.\u001b[39mimread(\u001b[39mr\u001b[39m\u001b[39m'\u001b[39m\u001b[39mC:\u001b[39m\u001b[39m\\\u001b[39m\u001b[39mGithub\u001b[39m\u001b[39m\\\u001b[39m\u001b[39mrepository\u001b[39m\u001b[39m\\\u001b[39m\u001b[39mimage_classification\u001b[39m\u001b[39m\\\u001b[39m\u001b[39mimgs\u001b[39m\u001b[39m\\\u001b[39m\u001b[39mbinary_crosses.png\u001b[39m\u001b[39m'\u001b[39m)\n\u001b[1;32m----> <a href='vscode-notebook-cell://github/sumcousa/image_classification/Untitled-1.ipynb#ch0000001vscode-vfs?line=3'>4</a>\u001b[0m pngsize \u001b[39m=\u001b[39m \u001b[39mlen\u001b[39;49m(dat)\n\u001b[0;32m      <a href='vscode-notebook-cell://github/sumcousa/image_classification/Untitled-1.ipynb#ch0000001vscode-vfs?line=4'>5</a>\u001b[0m \u001b[39mprint\u001b[39m(\u001b[39m'\u001b[39m\u001b[39mpngsize\u001b[39m\u001b[39m'\u001b[39m,pngsize)\n\u001b[0;32m      <a href='vscode-notebook-cell://github/sumcousa/image_classification/Untitled-1.ipynb#ch0000001vscode-vfs?line=5'>6</a>\u001b[0m data \u001b[39m=\u001b[39m \u001b[39mstr\u001b[39m(dat)\n",
      "\u001b[1;31mTypeError\u001b[0m: object of type 'NoneType' has no len()"
     ]
    },
    {
     "ename": "",
     "evalue": "",
     "output_type": "error",
     "traceback": [
      "\u001b[1;31mThe Kernel crashed while executing code in the the current cell or a previous cell. Please review the code in the cell(s) to identify a possible cause of the failure. Click <a href='https://aka.ms/vscodeJupyterKernelCrash'>here</a> for more info. View Jupyter <a href='command:jupyter.viewOutput'>log</a> for further details."
     ]
    }
   ],
   "source": [
    "import cv2\n",
    "# getImageInfo(cv2.imread(r'C:\\Github\\repository\\image_classification\\imgs\\binary_crosses.png'))\n",
    "dat = cv2.imread(r'C:\\Github\\repository\\image_classification\\imgs\\binary_crosses.png')\n",
    "pngsize = len(dat)\n",
    "print('pngsize',pngsize)\n",
    "data = str(dat)\n",
    "strsize = len(data)\n",
    "print('strsize',strsize)\n",
    "print('data[:20]',data[:20])"
   ]
  },
  {
   "cell_type": "code",
   "execution_count": 36,
   "metadata": {},
   "outputs": [
    {
     "ename": "ModuleNotFoundError",
     "evalue": "No module named 'hough_transform'",
     "output_type": "error",
     "traceback": [
      "\u001b[1;31m---------------------------------------------------------------------------\u001b[0m",
      "\u001b[1;31mModuleNotFoundError\u001b[0m                       Traceback (most recent call last)",
      "\u001b[1;32msumcousa\\image_classification\\Untitled-1.ipynb Cell 3'\u001b[0m in \u001b[0;36m<cell line: 6>\u001b[1;34m()\u001b[0m\n\u001b[0;32m      <a href='vscode-notebook-cell://github/sumcousa/image_classification/Untitled-1.ipynb#ch0000002vscode-vfs?line=3'>4</a>\u001b[0m \u001b[39mimport\u001b[39;00m \u001b[39mscipy\u001b[39;00m\n\u001b[0;32m      <a href='vscode-notebook-cell://github/sumcousa/image_classification/Untitled-1.ipynb#ch0000002vscode-vfs?line=4'>5</a>\u001b[0m \u001b[39mfrom\u001b[39;00m \u001b[39mscipy\u001b[39;00m\u001b[39m.\u001b[39;00m\u001b[39msparse\u001b[39;00m \u001b[39mimport\u001b[39;00m coo_matrix\n\u001b[1;32m----> <a href='vscode-notebook-cell://github/sumcousa/image_classification/Untitled-1.ipynb#ch0000002vscode-vfs?line=5'>6</a>\u001b[0m \u001b[39mimport\u001b[39;00m \u001b[39mhough_transform\u001b[39;00m \u001b[39mas\u001b[39;00m \u001b[39mht\u001b[39;00m\n\u001b[0;32m      <a href='vscode-notebook-cell://github/sumcousa/image_classification/Untitled-1.ipynb#ch0000002vscode-vfs?line=7'>8</a>\u001b[0m \u001b[39mdef\u001b[39;00m \u001b[39mplot_coo_matrix\u001b[39m(m):\n\u001b[0;32m      <a href='vscode-notebook-cell://github/sumcousa/image_classification/Untitled-1.ipynb#ch0000002vscode-vfs?line=8'>9</a>\u001b[0m     \u001b[39mif\u001b[39;00m \u001b[39mnot\u001b[39;00m \u001b[39misinstance\u001b[39m(m, coo_matrix):\n",
      "\u001b[1;31mModuleNotFoundError\u001b[0m: No module named 'hough_transform'"
     ]
    }
   ],
   "source": [
    "import numpy as np\n",
    "import matplotlib.pyplot as plt\n",
    "import matplotlib.colors\n",
    "import scipy\n",
    "from scipy.sparse import coo_matrix\n",
    "import hough_transform as ht\n",
    "\n",
    "def plot_coo_matrix(m):\n",
    "    if not isinstance(m, coo_matrix):\n",
    "        m = coo_matrix(m)\n",
    "    fig = plt.figure()\n",
    "    ax = fig.add_subplot(111, facecolor='black')\n",
    "    ax.plot(m.col, m.row, 's', color='white', ms=1)\n",
    "    ax.set_xlim(0, m.shape[1])\n",
    "    ax.set_ylim(0, m.shape[0])\n",
    "    ax.set_aspect('equal')\n",
    "    for spine in ax.spines.values():\n",
    "        spine.set_visible(False)\n",
    "    ax.invert_yaxis()\n",
    "    ax.set_aspect('equal')\n",
    "    ax.set_xticks([])\n",
    "    ax.set_yticks([])\n",
    "    return ax\n",
    "\n",
    "a =np.array([[0,1,1,0],\n",
    "               [0,1,1,0],\n",
    "               [0,1,0,1],\n",
    "               [1,0,1,0]])\n",
    "\n",
    "u, ind = np.unique(a, return_inverse=True)\n",
    "b = ind.reshape((a.shape))\n",
    "\n",
    "colors = [\"#FFFFFF\",\"#000000\"]\n",
    "cmap = matplotlib.colors.ListedColormap(colors,2)\n",
    "\n",
    "row  = np.array([1,2,3,4,5,6,7,8,9,10,11,12,13,14,15], dtype=np.int8)\n",
    "col  = np.array([1,2,3,4,5,6,7,8,9,10,11,12,13,14,15], dtype=np.int8)\n",
    "data = np.array([1, 1, 1, 1,1,1,1,1,1,1,1,1,1,1,1], dtype=np.int8)\n",
    "\n",
    "# print('row',row,'col',col,'data',data)\n",
    "\n",
    "mtrx = coo_matrix((data, (row, col)), shape=(200000, 200000), dtype=np.int8)#.toarray()\n",
    "\n",
    "# print('mtrx',mtrx)\n",
    "# plot_coo_matrix(mtrx, cmap=cmap) #, norm=norm)\n",
    "ax = plot_coo_matrix(mtrx)\n",
    "\n",
    "ht.hough_line(mtrx, angle_step=1, lines_are_white=True, value_threshold=5)\n",
    "# ax.figure.show()\n",
    "# cb = plt.colorbar(ticks=np.arange(len(a)))\n",
    "# cb.ax.set_yticklabels(np.unique(a[:,0]))\n",
    "\n",
    "# plt.show()"
   ]
  },
  {
   "cell_type": "code",
   "execution_count": 104,
   "metadata": {},
   "outputs": [
    {
     "name": "stdout",
     "output_type": "stream",
     "text": [
      "mtrx.shape (130000, 130000)\n"
     ]
    }
   ],
   "source": [
    "import numpy as np\n",
    "from matplotlib import pyplot as plt\n",
    "from scipy import sparse\n",
    "# mtrx = np.zeros((100,100,3))\n",
    "# for x in range(100):\n",
    "#     for y in range(100):\n",
    "#         mtrx[x][y] = [30,30,30]\n",
    "# mtrx = np.array([[[30,30,30],[30,30,30],[30,30,30],[30,30,30]],[[30,30,30],[30,30,30],[30,30,30],[30,30,30]],[[30,30,30],[30,30,30],[30,30,30],[30,30,30]]],dtype=int)\n",
    "# mtrx = np.array([1,2,3])\n",
    "# print(mtrx)\n",
    "# mtrx = sparse.coo_matrix(([30,30,30]),shape=(100,100))\n",
    "print('mtrx.shape',mtrx.shape)\n",
    "\n",
    "# print('mtrx[1,3]',mtrx[1,3])\n",
    "# plt.imshow(mtrx)\n",
    "# plt.show()"
   ]
  },
  {
   "cell_type": "markdown",
   "metadata": {},
   "source": []
  },
  {
   "cell_type": "code",
   "execution_count": 77,
   "metadata": {},
   "outputs": [
    {
     "name": "stdout",
     "output_type": "stream",
     "text": [
      "19.0.0.0.0\n",
      "2022-07-12 08:17:06.880995\n"
     ]
    }
   ],
   "source": [
    "import pyodbc\n",
    "import datetime\n",
    "import cx_Oracle\n",
    "from cx_Oracle import connect\n",
    "\n",
    "import pandas as pd\n",
    "connection = connect('ML/mltst@SPPMLT')\n",
    "print(connection.version)\n",
    "cur = connection.cursor()\n",
    "ct = datetime.datetime.now()\n",
    "print(ct)\n",
    "cur.execute('INSERT INTO LPD_DATA.TEST2(col1, col2, col3) VALUES (\\'test1\\',1,TO_TIMESTAMP(\\'' + str(ct) + '\\',\\'YYYY-MM-DD HH24:MI:SS.FF6\\'))')\n",
    "# rows = cur.fetchall()\n",
    "connection.commit()"
   ]
  },
  {
   "cell_type": "code",
   "execution_count": 105,
   "metadata": {},
   "outputs": [
    {
     "name": "stdout",
     "output_type": "stream",
     "text": [
      "mtrx.shape (100000, 100000)\n"
     ]
    }
   ],
   "source": [
    "import numpy as np\n",
    "from matplotlib import pyplot as plt\n",
    "from scipy import sparse\n",
    "row = np.array([1,2,3,4,5,6,7,8,9,10], dtype=np.uint8)\n",
    "col = np.array([1,2,3,4,5,6,7,8,9,10], dtype=np.uint8)\n",
    "data = np.array([1,1,1,1,1,1,1,1,1,1], dtype=np.uint8)\n",
    "mtrx = sparse.coo_matrix((data,(row,col)),shape=(100000,100000), dtype=np.uint8).toarray()\n",
    "print('mtrx.shape',mtrx.shape)"
   ]
  },
  {
   "cell_type": "code",
   "execution_count": 92,
   "metadata": {},
   "outputs": [
    {
     "name": "stdout",
     "output_type": "stream",
     "text": [
      "0\n"
     ]
    },
    {
     "name": "stderr",
     "output_type": "stream",
     "text": [
      "c:\\Program Files\\Python38\\lib\\site-packages\\tables\\leaf.py:367: PerformanceWarning: The Leaf ``/data`` is exceeding the maximum recommended rowsize (104857600 bytes);\n",
      "be ready to see PyTables asking for *lots* of memory and possibly slow\n",
      "I/O.  You may want to reduce the rowsize by trimming the value of\n",
      "dimensions that are orthogonal (and preferably close) to the *main*\n",
      "dimension of this leave.  Alternatively, in case you have specified a\n",
      "very small/large chunksize, you may want to increase/decrease it.\n",
      "  warnings.warn(\"\"\"\\\n"
     ]
    },
    {
     "ename": "TypeError",
     "evalue": "array() got an unexpected keyword argument 'shape'",
     "output_type": "error",
     "traceback": [
      "\u001b[1;31m---------------------------------------------------------------------------\u001b[0m",
      "\u001b[1;31mTypeError\u001b[0m                                 Traceback (most recent call last)",
      "\u001b[1;32msumcousa\\image_classification\\Untitled-1.ipynb Cell 10'\u001b[0m in \u001b[0;36m<cell line: 21>\u001b[1;34m()\u001b[0m\n\u001b[0;32m     <a href='vscode-notebook-cell://github/sumcousa/image_classification/Untitled-1.ipynb#ch0000009vscode-vfs?line=21'>22</a>\u001b[0m     col\u001b[39m=\u001b[39m(i\u001b[39m*\u001b[39mbl)\n\u001b[0;32m     <a href='vscode-notebook-cell://github/sumcousa/image_classification/Untitled-1.ipynb#ch0000009vscode-vfs?line=22'>23</a>\u001b[0m     \u001b[39mprint\u001b[39m(col)\n\u001b[1;32m---> <a href='vscode-notebook-cell://github/sumcousa/image_classification/Untitled-1.ipynb#ch0000009vscode-vfs?line=23'>24</a>\u001b[0m     out[:,i\u001b[39m*\u001b[39mbl:((i\u001b[39m*\u001b[39mbl) \u001b[39m+\u001b[39m bl)] \u001b[39m=\u001b[39m np\u001b[39m.\u001b[39;49marray([\u001b[39m255\u001b[39;49m,\u001b[39m255\u001b[39;49m,\u001b[39m255\u001b[39;49m],shape\u001b[39m=\u001b[39;49m(\u001b[39m1000\u001b[39;49m,\u001b[39m1000\u001b[39;49m))\n\u001b[0;32m     <a href='vscode-notebook-cell://github/sumcousa/image_classification/Untitled-1.ipynb#ch0000009vscode-vfs?line=25'>26</a>\u001b[0m f\u001b[39m.\u001b[39mclose()\n",
      "\u001b[1;31mTypeError\u001b[0m: array() got an unexpected keyword argument 'shape'"
     ]
    }
   ],
   "source": [
    "from scipy.sparse import csr_matrix, rand, csr_array\n",
    "import tables as tb\n",
    "# a = rand(10000,10000, format='csr') #imagine that many values are stored in this matrix and that sparsity is low\n",
    "# b = a.T\n",
    "# l, m, n = a.shape[0], a.shape[1], b.shape[1]\n",
    "# print('l',l,'m', m, 'n', n)\n",
    "f.close()\n",
    "f = tb.open_file('dot.h5', 'w')\n",
    "filters = tb.Filters(complevel=5, complib='blosc')\n",
    "out = f.create_carray(f.root, 'data', tb.IntAtom(itemsize=8,shape=(1000,1000)) , shape=(200000, 200000), filters=filters)\n",
    "bl = 1000 #this is the number of rows we calculate each loop\n",
    "#this may not the most efficient value\n",
    "#look into buffersize usage in PyTables and adopt the buffersite of the\n",
    "#carray accordingly to improve specifically fetching performance\n",
    " \n",
    "b = b.tocsc() #we slice b on columns, csc improves performance\n",
    " \n",
    "#this can also be changed to slice on rows instead of columns\n",
    "a = csr_array((1000,1000),dtype=np.int8)\n",
    "a.todense()\n",
    "for i in range(0, round(200000/bl), 1):\n",
    "    col=(i*bl)\n",
    "    print(col)\n",
    "    out[:,i*bl:((i*bl) + bl)] = np.array([255,255,255],shape=(1000,1000))\n",
    " \n",
    "f.close()"
   ]
  },
  {
   "cell_type": "code",
   "execution_count": 111,
   "metadata": {},
   "outputs": [
    {
     "name": "stdout",
     "output_type": "stream",
     "text": [
      "[[255 255 255 255 255]\n",
      " [255 255 255 255 255]\n",
      " [255 255 255 255 255]\n",
      " [255 255 255 255 255]\n",
      " [255 255 255 255 255]]\n"
     ]
    }
   ],
   "source": [
    "rgb=np.array([255,255,255])\n",
    "a=np.array(rgb)\n",
    "b=np.resize(a,(5,5))\n",
    "print(b)"
   ]
  },
  {
   "cell_type": "code",
   "execution_count": 134,
   "metadata": {},
   "outputs": [
    {
     "ename": "ValueError",
     "evalue": "unable to infer matrix dimensions",
     "output_type": "error",
     "traceback": [
      "\u001b[1;31m---------------------------------------------------------------------------\u001b[0m",
      "\u001b[1;31mTypeError\u001b[0m                                 Traceback (most recent call last)",
      "File \u001b[1;32mc:\\Program Files\\Python38\\lib\\site-packages\\scipy\\sparse\\_compressed.py:95\u001b[0m, in \u001b[0;36m_cs_matrix.__init__\u001b[1;34m(self, arg1, shape, dtype, copy)\u001b[0m\n\u001b[0;32m     94\u001b[0m \u001b[39mtry\u001b[39;00m:\n\u001b[1;32m---> 95\u001b[0m     major_dim \u001b[39m=\u001b[39m \u001b[39mlen\u001b[39;49m(\u001b[39mself\u001b[39;49m\u001b[39m.\u001b[39;49mindptr) \u001b[39m-\u001b[39m \u001b[39m1\u001b[39m\n\u001b[0;32m     96\u001b[0m     minor_dim \u001b[39m=\u001b[39m \u001b[39mself\u001b[39m\u001b[39m.\u001b[39mindices\u001b[39m.\u001b[39mmax() \u001b[39m+\u001b[39m \u001b[39m1\u001b[39m\n",
      "\u001b[1;31mTypeError\u001b[0m: len() of unsized object",
      "\nThe above exception was the direct cause of the following exception:\n",
      "\u001b[1;31mValueError\u001b[0m                                Traceback (most recent call last)",
      "\u001b[1;32msumcousa\\image_classification\\Untitled-1.ipynb Cell 10'\u001b[0m in \u001b[0;36m<cell line: 2>\u001b[1;34m()\u001b[0m\n\u001b[0;32m      <a href='vscode-notebook-cell://github/sumcousa/image_classification/Untitled-1.ipynb#ch0000011vscode-vfs?line=0'>1</a>\u001b[0m rgb\u001b[39m=\u001b[39mnp\u001b[39m.\u001b[39marray([\u001b[39m255\u001b[39m,\u001b[39m255\u001b[39m,\u001b[39m255\u001b[39m])\n\u001b[1;32m----> <a href='vscode-notebook-cell://github/sumcousa/image_classification/Untitled-1.ipynb#ch0000011vscode-vfs?line=1'>2</a>\u001b[0m a \u001b[39m=\u001b[39m csr_array((\u001b[39m10\u001b[39;49m,\u001b[39m10\u001b[39;49m,\u001b[39m3\u001b[39;49m),dtype\u001b[39m=\u001b[39;49mnp\u001b[39m.\u001b[39;49mint8)\n\u001b[0;32m      <a href='vscode-notebook-cell://github/sumcousa/image_classification/Untitled-1.ipynb#ch0000011vscode-vfs?line=2'>3</a>\u001b[0m \u001b[39mprint\u001b[39m(a\u001b[39m.\u001b[39mshape)\n",
      "File \u001b[1;32mc:\\Program Files\\Python38\\lib\\site-packages\\scipy\\sparse\\_compressed.py:98\u001b[0m, in \u001b[0;36m_cs_matrix.__init__\u001b[1;34m(self, arg1, shape, dtype, copy)\u001b[0m\n\u001b[0;32m     96\u001b[0m     minor_dim \u001b[39m=\u001b[39m \u001b[39mself\u001b[39m\u001b[39m.\u001b[39mindices\u001b[39m.\u001b[39mmax() \u001b[39m+\u001b[39m \u001b[39m1\u001b[39m\n\u001b[0;32m     97\u001b[0m \u001b[39mexcept\u001b[39;00m \u001b[39mException\u001b[39;00m \u001b[39mas\u001b[39;00m e:\n\u001b[1;32m---> 98\u001b[0m     \u001b[39mraise\u001b[39;00m \u001b[39mValueError\u001b[39;00m(\u001b[39m'\u001b[39m\u001b[39munable to infer matrix dimensions\u001b[39m\u001b[39m'\u001b[39m) \u001b[39mfrom\u001b[39;00m \u001b[39me\u001b[39;00m\n\u001b[0;32m     99\u001b[0m \u001b[39melse\u001b[39;00m:\n\u001b[0;32m    100\u001b[0m     \u001b[39mself\u001b[39m\u001b[39m.\u001b[39m_shape \u001b[39m=\u001b[39m check_shape(\u001b[39mself\u001b[39m\u001b[39m.\u001b[39m_swap((major_dim,\n\u001b[0;32m    101\u001b[0m                                           minor_dim)))\n",
      "\u001b[1;31mValueError\u001b[0m: unable to infer matrix dimensions"
     ]
    }
   ],
   "source": [
    "rgb=np.array([255,255,255])\n",
    "a = csr_array((10,10),dtype=np.int8)\n",
    "print(a.shape)\n",
    "# for i in range(0,10):\n",
    "#     for j in range(0,10):\n",
    "#         # print('i',i,'j',j)\n",
    "#         a[[i],[j]] = rgb\n",
    "# print(a)"
   ]
  },
  {
   "cell_type": "code",
   "execution_count": null,
   "metadata": {},
   "outputs": [],
   "source": []
  }
 ],
 "metadata": {
  "kernelspec": {
   "display_name": "Python 3.8.0 64-bit",
   "language": "python",
   "name": "python3"
  },
  "language_info": {
   "codemirror_mode": {
    "name": "ipython",
    "version": 3
   },
   "file_extension": ".py",
   "mimetype": "text/x-python",
   "name": "python",
   "nbconvert_exporter": "python",
   "pygments_lexer": "ipython3",
   "version": "3.8.0"
  },
  "orig_nbformat": 4,
  "vscode": {
   "interpreter": {
    "hash": "570feb405e2e27c949193ac68f46852414290d515b0ba6e5d90d076ed2284471"
   }
  }
 },
 "nbformat": 4,
 "nbformat_minor": 2
}
