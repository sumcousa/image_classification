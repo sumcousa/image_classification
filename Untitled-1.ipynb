{
 "cells": [
  {
   "cell_type": "code",
   "execution_count": 10,
   "metadata": {},
   "outputs": [],
   "source": [
    "from io import StringIO\n",
    "import struct\n",
    "\n",
    "def getImageInfo(data):\n",
    "    print('data[:20]',data[:20])\n",
    "    data = str(data)\n",
    "    size = len(data)\n",
    "    print('size',size)\n",
    "    height = -1\n",
    "    width = -1\n",
    "    content_type = ''\n",
    "\n",
    "    # handle GIFs\n",
    "    if (size >= 10) and data[:6] in ('GIF87a', 'GIF89a'):\n",
    "        # Check to see if content_type is correct\n",
    "        content_type = 'image/gif'\n",
    "        w, h = struct.unpack(\"<HH\", data[6:10])\n",
    "        width = int(w)\n",
    "        height = int(h)\n",
    "\n",
    "    # See PNG 2. Edition spec (http://www.w3.org/TR/PNG/)\n",
    "    # Bytes 0-7 are below, 4-byte chunk length, then 'IHDR'\n",
    "    # and finally the 4-byte width, height\n",
    "    elif ((size >= 24) and data.startswith('\\211PNG\\r\\n\\032\\n')\n",
    "          and (data[12:16] == 'IHDR')):\n",
    "        content_type = 'image/png'\n",
    "        w, h = struct.unpack(\">LL\", data[16:24])\n",
    "        width = int(w)\n",
    "        height = int(h)\n",
    "\n",
    "    # Maybe this is for an older PNG version.\n",
    "    elif (size >= 16) and data.startswith('\\211PNG\\r\\n\\032\\n'):\n",
    "        # Check to see if we have the right content type\n",
    "        content_type = 'image/png'\n",
    "        w, h = struct.unpack(\">LL\", data[8:16])\n",
    "        width = int(w)\n",
    "        height = int(h)\n",
    "\n",
    "    # handle JPEGs\n",
    "    elif (size >= 2) and data.startswith('\\377\\330'):\n",
    "        content_type = 'image/jpeg'\n",
    "        jpeg = StringIO.StringIO(data)\n",
    "        jpeg.read(2)\n",
    "        b = jpeg.read(1)\n",
    "        try:\n",
    "            while (b and ord(b) != 0xDA):\n",
    "                while (ord(b) != 0xFF): b = jpeg.read(1)\n",
    "                while (ord(b) == 0xFF): b = jpeg.read(1)\n",
    "                if (ord(b) >= 0xC0 and ord(b) <= 0xC3):\n",
    "                    jpeg.read(3)\n",
    "                    h, w = struct.unpack(\">HH\", jpeg.read(4))\n",
    "                    break\n",
    "                else:\n",
    "                    jpeg.read(int(struct.unpack(\">H\", jpeg.read(2))[0])-2)\n",
    "                b = jpeg.read(1)\n",
    "            width = int(w)\n",
    "            height = int(h)\n",
    "        except struct.error:\n",
    "            pass\n",
    "        except ValueError:\n",
    "            pass\n",
    "\n",
    "    return content_type, width, height"
   ]
  },
  {
   "cell_type": "code",
   "execution_count": 49,
   "metadata": {},
   "outputs": [
    {
     "ename": "TypeError",
     "evalue": "object of type 'NoneType' has no len()",
     "output_type": "error",
     "traceback": [
      "\u001b[1;31m---------------------------------------------------------------------------\u001b[0m",
      "\u001b[1;31mTypeError\u001b[0m                                 Traceback (most recent call last)",
      "\u001b[1;32msumcousa\\image_classification\\Untitled-1.ipynb Cell 2'\u001b[0m in \u001b[0;36m<cell line: 4>\u001b[1;34m()\u001b[0m\n\u001b[0;32m      <a href='vscode-notebook-cell://github/sumcousa/image_classification/Untitled-1.ipynb#ch0000001vscode-vfs?line=1'>2</a>\u001b[0m \u001b[39m# getImageInfo(cv2.imread(r'C:\\Github\\repository\\image_classification\\imgs\\binary_crosses.png'))\u001b[39;00m\n\u001b[0;32m      <a href='vscode-notebook-cell://github/sumcousa/image_classification/Untitled-1.ipynb#ch0000001vscode-vfs?line=2'>3</a>\u001b[0m dat \u001b[39m=\u001b[39m cv2\u001b[39m.\u001b[39mimread(\u001b[39mr\u001b[39m\u001b[39m'\u001b[39m\u001b[39mC:\u001b[39m\u001b[39m\\\u001b[39m\u001b[39mGithub\u001b[39m\u001b[39m\\\u001b[39m\u001b[39mrepository\u001b[39m\u001b[39m\\\u001b[39m\u001b[39mimage_classification\u001b[39m\u001b[39m\\\u001b[39m\u001b[39mimgs\u001b[39m\u001b[39m\\\u001b[39m\u001b[39mbinary_crosses.png\u001b[39m\u001b[39m'\u001b[39m)\n\u001b[1;32m----> <a href='vscode-notebook-cell://github/sumcousa/image_classification/Untitled-1.ipynb#ch0000001vscode-vfs?line=3'>4</a>\u001b[0m pngsize \u001b[39m=\u001b[39m \u001b[39mlen\u001b[39;49m(dat)\n\u001b[0;32m      <a href='vscode-notebook-cell://github/sumcousa/image_classification/Untitled-1.ipynb#ch0000001vscode-vfs?line=4'>5</a>\u001b[0m \u001b[39mprint\u001b[39m(\u001b[39m'\u001b[39m\u001b[39mpngsize\u001b[39m\u001b[39m'\u001b[39m,pngsize)\n\u001b[0;32m      <a href='vscode-notebook-cell://github/sumcousa/image_classification/Untitled-1.ipynb#ch0000001vscode-vfs?line=5'>6</a>\u001b[0m data \u001b[39m=\u001b[39m \u001b[39mstr\u001b[39m(dat)\n",
      "\u001b[1;31mTypeError\u001b[0m: object of type 'NoneType' has no len()"
     ]
    },
    {
     "ename": "",
     "evalue": "",
     "output_type": "error",
     "traceback": [
      "\u001b[1;31mThe Kernel crashed while executing code in the the current cell or a previous cell. Please review the code in the cell(s) to identify a possible cause of the failure. Click <a href='https://aka.ms/vscodeJupyterKernelCrash'>here</a> for more info. View Jupyter <a href='command:jupyter.viewOutput'>log</a> for further details."
     ]
    }
   ],
   "source": [
    "import cv2\n",
    "# getImageInfo(cv2.imread(r'C:\\Github\\repository\\image_classification\\imgs\\binary_crosses.png'))\n",
    "dat = cv2.imread(r'C:\\Github\\repository\\image_classification\\imgs\\binary_crosses.png')\n",
    "pngsize = len(dat)\n",
    "print('pngsize',pngsize)\n",
    "data = str(dat)\n",
    "strsize = len(data)\n",
    "print('strsize',strsize)\n",
    "print('data[:20]',data[:20])"
   ]
  },
  {
   "cell_type": "code",
   "execution_count": 36,
   "metadata": {},
   "outputs": [
    {
     "ename": "ModuleNotFoundError",
     "evalue": "No module named 'hough_transform'",
     "output_type": "error",
     "traceback": [
      "\u001b[1;31m---------------------------------------------------------------------------\u001b[0m",
      "\u001b[1;31mModuleNotFoundError\u001b[0m                       Traceback (most recent call last)",
      "\u001b[1;32msumcousa\\image_classification\\Untitled-1.ipynb Cell 3'\u001b[0m in \u001b[0;36m<cell line: 6>\u001b[1;34m()\u001b[0m\n\u001b[0;32m      <a href='vscode-notebook-cell://github/sumcousa/image_classification/Untitled-1.ipynb#ch0000002vscode-vfs?line=3'>4</a>\u001b[0m \u001b[39mimport\u001b[39;00m \u001b[39mscipy\u001b[39;00m\n\u001b[0;32m      <a href='vscode-notebook-cell://github/sumcousa/image_classification/Untitled-1.ipynb#ch0000002vscode-vfs?line=4'>5</a>\u001b[0m \u001b[39mfrom\u001b[39;00m \u001b[39mscipy\u001b[39;00m\u001b[39m.\u001b[39;00m\u001b[39msparse\u001b[39;00m \u001b[39mimport\u001b[39;00m coo_matrix\n\u001b[1;32m----> <a href='vscode-notebook-cell://github/sumcousa/image_classification/Untitled-1.ipynb#ch0000002vscode-vfs?line=5'>6</a>\u001b[0m \u001b[39mimport\u001b[39;00m \u001b[39mhough_transform\u001b[39;00m \u001b[39mas\u001b[39;00m \u001b[39mht\u001b[39;00m\n\u001b[0;32m      <a href='vscode-notebook-cell://github/sumcousa/image_classification/Untitled-1.ipynb#ch0000002vscode-vfs?line=7'>8</a>\u001b[0m \u001b[39mdef\u001b[39;00m \u001b[39mplot_coo_matrix\u001b[39m(m):\n\u001b[0;32m      <a href='vscode-notebook-cell://github/sumcousa/image_classification/Untitled-1.ipynb#ch0000002vscode-vfs?line=8'>9</a>\u001b[0m     \u001b[39mif\u001b[39;00m \u001b[39mnot\u001b[39;00m \u001b[39misinstance\u001b[39m(m, coo_matrix):\n",
      "\u001b[1;31mModuleNotFoundError\u001b[0m: No module named 'hough_transform'"
     ]
    }
   ],
   "source": [
    "import numpy as np\n",
    "import matplotlib.pyplot as plt\n",
    "import matplotlib.colors\n",
    "import scipy\n",
    "from scipy.sparse import coo_matrix\n",
    "import hough_transform as ht\n",
    "\n",
    "def plot_coo_matrix(m):\n",
    "    if not isinstance(m, coo_matrix):\n",
    "        m = coo_matrix(m)\n",
    "    fig = plt.figure()\n",
    "    ax = fig.add_subplot(111, facecolor='black')\n",
    "    ax.plot(m.col, m.row, 's', color='white', ms=1)\n",
    "    ax.set_xlim(0, m.shape[1])\n",
    "    ax.set_ylim(0, m.shape[0])\n",
    "    ax.set_aspect('equal')\n",
    "    for spine in ax.spines.values():\n",
    "        spine.set_visible(False)\n",
    "    ax.invert_yaxis()\n",
    "    ax.set_aspect('equal')\n",
    "    ax.set_xticks([])\n",
    "    ax.set_yticks([])\n",
    "    return ax\n",
    "\n",
    "a =np.array([[0,1,1,0],\n",
    "               [0,1,1,0],\n",
    "               [0,1,0,1],\n",
    "               [1,0,1,0]])\n",
    "\n",
    "u, ind = np.unique(a, return_inverse=True)\n",
    "b = ind.reshape((a.shape))\n",
    "\n",
    "colors = [\"#FFFFFF\",\"#000000\"]\n",
    "cmap = matplotlib.colors.ListedColormap(colors,2)\n",
    "\n",
    "row  = np.array([1,2,3,4,5,6,7,8,9,10,11,12,13,14,15], dtype=np.int8)\n",
    "col  = np.array([1,2,3,4,5,6,7,8,9,10,11,12,13,14,15], dtype=np.int8)\n",
    "data = np.array([1, 1, 1, 1,1,1,1,1,1,1,1,1,1,1,1], dtype=np.int8)\n",
    "\n",
    "# print('row',row,'col',col,'data',data)\n",
    "\n",
    "mtrx = coo_matrix((data, (row, col)), shape=(200000, 200000), dtype=np.int8)#.toarray()\n",
    "\n",
    "# print('mtrx',mtrx)\n",
    "# plot_coo_matrix(mtrx, cmap=cmap) #, norm=norm)\n",
    "ax = plot_coo_matrix(mtrx)\n",
    "\n",
    "ht.hough_line(mtrx, angle_step=1, lines_are_white=True, value_threshold=5)\n",
    "# ax.figure.show()\n",
    "# cb = plt.colorbar(ticks=np.arange(len(a)))\n",
    "# cb.ax.set_yticklabels(np.unique(a[:,0]))\n",
    "\n",
    "# plt.show()"
   ]
  },
  {
   "cell_type": "code",
   "execution_count": 104,
   "metadata": {},
   "outputs": [
    {
     "name": "stdout",
     "output_type": "stream",
     "text": [
      "mtrx.shape (130000, 130000)\n"
     ]
    }
   ],
   "source": [
    "import numpy as np\n",
    "from matplotlib import pyplot as plt\n",
    "from scipy import sparse\n",
    "# mtrx = np.zeros((100,100,3))\n",
    "# for x in range(100):\n",
    "#     for y in range(100):\n",
    "#         mtrx[x][y] = [30,30,30]\n",
    "# mtrx = np.array([[[30,30,30],[30,30,30],[30,30,30],[30,30,30]],[[30,30,30],[30,30,30],[30,30,30],[30,30,30]],[[30,30,30],[30,30,30],[30,30,30],[30,30,30]]],dtype=int)\n",
    "# mtrx = np.array([1,2,3])\n",
    "# print(mtrx)\n",
    "# mtrx = sparse.coo_matrix(([30,30,30]),shape=(100,100))\n",
    "print('mtrx.shape',mtrx.shape)\n",
    "\n",
    "# print('mtrx[1,3]',mtrx[1,3])\n",
    "# plt.imshow(mtrx)\n",
    "# plt.show()"
   ]
  },
  {
   "cell_type": "markdown",
   "metadata": {},
   "source": []
  },
  {
   "cell_type": "code",
   "execution_count": 57,
   "metadata": {},
   "outputs": [
    {
     "name": "stdout",
     "output_type": "stream",
     "text": [
      "19.16.0.0.0\n",
      "ctnowstr 2022-09-05 11:49:40.635528\n",
      "ct 20220905_114940635528\n",
      "run_key <cx_Oracle.Var of type DB_TYPE_NUMBER with value [12.0]>\n",
      "new_run_key 12.0\n"
     ]
    }
   ],
   "source": [
    "import pyodbc\n",
    "import datetime\n",
    "import cx_Oracle\n",
    "from cx_Oracle import connect\n",
    "\n",
    "import pandas as pd\n",
    "connection = connect('ML/mltst@SPPMLT')\n",
    "print(connection.version)\n",
    "cur = connection.cursor()\n",
    "ctnow = datetime.datetime.now()\n",
    "ctnowstr = str(ctnow)\n",
    "ct = ctnowstr.replace('-','')\n",
    "ct = ct.replace(':','')\n",
    "ct = ct.replace('.','')\n",
    "ct = ct.replace(' ','_')\n",
    "print('ctnowstr',ctnowstr)\n",
    "print('ct',ct)\n",
    "run_key = cur.var(cx_Oracle.NUMBER)\n",
    "sql_params = {\"run_key\" : run_key}\n",
    "cur.execute('INSERT INTO MP04.MP04_FINAL_UNIT_HEADER (FILE_NAME, TOOL, UNIT_TYPE, UNIT_NUMBER, IMAGE_RECORDED'\n",
    "            + ', CREATED_BY) VALUES ( \\'FILE_NAME_' + ct + '\\',\\'Tool1\\', \\'PF\\', 1, TO_TIMESTAMP(\\'' \n",
    "            + ctnowstr + '\\',\\'YYYY-MM-DD HH24:MI:SS.FF6\\'), \\'CNOTH\\') returning run_key into :run_key', sql_params)\n",
    "new_run_key=run_key.getvalue()\n",
    "print('run_key',run_key)\n",
    "print('new_run_key',new_run_key[0])\n",
    "cur.execute('INSERT INTO MP04.MP04_FINAL_UNIT_DETAIL (RUN_KEY, TEST_NAME, TEST_RESULT_PROBABILITY, TEST_JUDGEMENT'\n",
    "            + ', TEST_ML_MODEL, CREATED_BY) VALUES ('\n",
    "            + str(new_run_key[0]) + ',\\'1\\',0.98,\\'Good\\',\\'CNOTHmodel\\',\\'CNOTH\\')')\n",
    "connection.commit()"
   ]
  },
  {
   "cell_type": "code",
   "execution_count": 105,
   "metadata": {},
   "outputs": [
    {
     "name": "stdout",
     "output_type": "stream",
     "text": [
      "mtrx.shape (100000, 100000)\n"
     ]
    }
   ],
   "source": [
    "import numpy as np\n",
    "from matplotlib import pyplot as plt\n",
    "from scipy import sparse\n",
    "row = np.array([1,2,3,4,5,6,7,8,9,10], dtype=np.uint8)\n",
    "col = np.array([1,2,3,4,5,6,7,8,9,10], dtype=np.uint8)\n",
    "data = np.array([1,1,1,1,1,1,1,1,1,1], dtype=np.uint8)\n",
    "mtrx = sparse.coo_matrix((data,(row,col)),shape=(100000,100000), dtype=np.uint8).toarray()\n",
    "print('mtrx.shape',mtrx.shape)"
   ]
  },
  {
   "cell_type": "code",
   "execution_count": 92,
   "metadata": {},
   "outputs": [
    {
     "name": "stdout",
     "output_type": "stream",
     "text": [
      "0\n"
     ]
    },
    {
     "name": "stderr",
     "output_type": "stream",
     "text": [
      "c:\\Program Files\\Python38\\lib\\site-packages\\tables\\leaf.py:367: PerformanceWarning: The Leaf ``/data`` is exceeding the maximum recommended rowsize (104857600 bytes);\n",
      "be ready to see PyTables asking for *lots* of memory and possibly slow\n",
      "I/O.  You may want to reduce the rowsize by trimming the value of\n",
      "dimensions that are orthogonal (and preferably close) to the *main*\n",
      "dimension of this leave.  Alternatively, in case you have specified a\n",
      "very small/large chunksize, you may want to increase/decrease it.\n",
      "  warnings.warn(\"\"\"\\\n"
     ]
    },
    {
     "ename": "TypeError",
     "evalue": "array() got an unexpected keyword argument 'shape'",
     "output_type": "error",
     "traceback": [
      "\u001b[1;31m---------------------------------------------------------------------------\u001b[0m",
      "\u001b[1;31mTypeError\u001b[0m                                 Traceback (most recent call last)",
      "\u001b[1;32msumcousa\\image_classification\\Untitled-1.ipynb Cell 10'\u001b[0m in \u001b[0;36m<cell line: 21>\u001b[1;34m()\u001b[0m\n\u001b[0;32m     <a href='vscode-notebook-cell://github/sumcousa/image_classification/Untitled-1.ipynb#ch0000009vscode-vfs?line=21'>22</a>\u001b[0m     col\u001b[39m=\u001b[39m(i\u001b[39m*\u001b[39mbl)\n\u001b[0;32m     <a href='vscode-notebook-cell://github/sumcousa/image_classification/Untitled-1.ipynb#ch0000009vscode-vfs?line=22'>23</a>\u001b[0m     \u001b[39mprint\u001b[39m(col)\n\u001b[1;32m---> <a href='vscode-notebook-cell://github/sumcousa/image_classification/Untitled-1.ipynb#ch0000009vscode-vfs?line=23'>24</a>\u001b[0m     out[:,i\u001b[39m*\u001b[39mbl:((i\u001b[39m*\u001b[39mbl) \u001b[39m+\u001b[39m bl)] \u001b[39m=\u001b[39m np\u001b[39m.\u001b[39;49marray([\u001b[39m255\u001b[39;49m,\u001b[39m255\u001b[39;49m,\u001b[39m255\u001b[39;49m],shape\u001b[39m=\u001b[39;49m(\u001b[39m1000\u001b[39;49m,\u001b[39m1000\u001b[39;49m))\n\u001b[0;32m     <a href='vscode-notebook-cell://github/sumcousa/image_classification/Untitled-1.ipynb#ch0000009vscode-vfs?line=25'>26</a>\u001b[0m f\u001b[39m.\u001b[39mclose()\n",
      "\u001b[1;31mTypeError\u001b[0m: array() got an unexpected keyword argument 'shape'"
     ]
    }
   ],
   "source": [
    "from scipy.sparse import csr_matrix, rand, csr_array\n",
    "import tables as tb\n",
    "# a = rand(10000,10000, format='csr') #imagine that many values are stored in this matrix and that sparsity is low\n",
    "# b = a.T\n",
    "# l, m, n = a.shape[0], a.shape[1], b.shape[1]\n",
    "# print('l',l,'m', m, 'n', n)\n",
    "f.close()\n",
    "f = tb.open_file('dot.h5', 'w')\n",
    "filters = tb.Filters(complevel=5, complib='blosc')\n",
    "out = f.create_carray(f.root, 'data', tb.IntAtom(itemsize=8,shape=(1000,1000)) , shape=(200000, 200000), filters=filters)\n",
    "bl = 1000 #this is the number of rows we calculate each loop\n",
    "#this may not the most efficient value\n",
    "#look into buffersize usage in PyTables and adopt the buffersite of the\n",
    "#carray accordingly to improve specifically fetching performance\n",
    " \n",
    "b = b.tocsc() #we slice b on columns, csc improves performance\n",
    " \n",
    "#this can also be changed to slice on rows instead of columns\n",
    "a = csr_array((1000,1000),dtype=np.int8)\n",
    "a.todense()\n",
    "for i in range(0, round(200000/bl), 1):\n",
    "    col=(i*bl)\n",
    "    print(col)\n",
    "    out[:,i*bl:((i*bl) + bl)] = np.array([255,255,255],shape=(1000,1000))\n",
    " \n",
    "f.close()"
   ]
  },
  {
   "cell_type": "code",
   "execution_count": 111,
   "metadata": {},
   "outputs": [
    {
     "name": "stdout",
     "output_type": "stream",
     "text": [
      "[[255 255 255 255 255]\n",
      " [255 255 255 255 255]\n",
      " [255 255 255 255 255]\n",
      " [255 255 255 255 255]\n",
      " [255 255 255 255 255]]\n"
     ]
    }
   ],
   "source": [
    "rgb=np.array([255,255,255])\n",
    "a=np.array(rgb)\n",
    "b=np.resize(a,(5,5))\n",
    "print(b)"
   ]
  },
  {
   "cell_type": "code",
   "execution_count": 148,
   "metadata": {},
   "outputs": [
    {
     "name": "stdout",
     "output_type": "stream",
     "text": [
      "(3,)\n"
     ]
    }
   ],
   "source": [
    "from scipy.sparse import csr_matrix, rand, csr_array\n",
    "import tables as tb\n",
    "rgb=np.array([255,255,255])\n",
    "a=np.array(rgb)\n",
    "# a = csr_array((10,10),dtype=a.dtype)\n",
    "print(a.shape)\n",
    "# for i in range(0,10):\n",
    "#     for j in range(0,10):\n",
    "#         # print('i',i,'j',j)\n",
    "#         a[[i],[j]] = rgb\n",
    "# print(a)"
   ]
  },
  {
   "cell_type": "code",
   "execution_count": 177,
   "metadata": {},
   "outputs": [
    {
     "ename": "AxisError",
     "evalue": "axis 2 is out of bounds for array of dimension 2",
     "output_type": "error",
     "traceback": [
      "\u001b[1;31m---------------------------------------------------------------------------\u001b[0m",
      "\u001b[1;31mAxisError\u001b[0m                                 Traceback (most recent call last)",
      "\u001b[1;32msumcousa\\image_classification\\Untitled-1.ipynb Cell 11'\u001b[0m in \u001b[0;36m<cell line: 3>\u001b[1;34m()\u001b[0m\n\u001b[0;32m      <a href='vscode-notebook-cell://github/sumcousa/image_classification/Untitled-1.ipynb#ch0000012vscode-vfs?line=0'>1</a>\u001b[0m a\u001b[39m=\u001b[39mnp\u001b[39m.\u001b[39marray([[\u001b[39m255\u001b[39m,\u001b[39m255\u001b[39m,\u001b[39m255\u001b[39m]])\n\u001b[0;32m      <a href='vscode-notebook-cell://github/sumcousa/image_classification/Untitled-1.ipynb#ch0000012vscode-vfs?line=1'>2</a>\u001b[0m a\u001b[39m=\u001b[39mnp\u001b[39m.\u001b[39mappend(a, [[\u001b[39m255\u001b[39m,\u001b[39m255\u001b[39m,\u001b[39m255\u001b[39m]], \u001b[39m1\u001b[39m)\n\u001b[1;32m----> <a href='vscode-notebook-cell://github/sumcousa/image_classification/Untitled-1.ipynb#ch0000012vscode-vfs?line=2'>3</a>\u001b[0m p\u001b[39m=\u001b[39mnp\u001b[39m.\u001b[39;49mappend(p, [[\u001b[39m255\u001b[39;49m,\u001b[39m255\u001b[39;49m,\u001b[39m255\u001b[39;49m]], \u001b[39m2\u001b[39;49m)\n\u001b[0;32m      <a href='vscode-notebook-cell://github/sumcousa/image_classification/Untitled-1.ipynb#ch0000012vscode-vfs?line=3'>4</a>\u001b[0m p\u001b[39m=\u001b[39mnp\u001b[39m.\u001b[39mappend(p, [[\u001b[39m255\u001b[39m,\u001b[39m255\u001b[39m,\u001b[39m255\u001b[39m]], \u001b[39m3\u001b[39m)\n\u001b[0;32m      <a href='vscode-notebook-cell://github/sumcousa/image_classification/Untitled-1.ipynb#ch0000012vscode-vfs?line=4'>5</a>\u001b[0m p\u001b[39m=\u001b[39mnp\u001b[39m.\u001b[39mappend(p, [[\u001b[39m255\u001b[39m,\u001b[39m255\u001b[39m,\u001b[39m255\u001b[39m]], \u001b[39m4\u001b[39m)\n",
      "File \u001b[1;32m<__array_function__ internals>:180\u001b[0m, in \u001b[0;36mappend\u001b[1;34m(*args, **kwargs)\u001b[0m\n",
      "File \u001b[1;32m~\\AppData\\Roaming\\Python\\Python38\\site-packages\\numpy\\lib\\function_base.py:5392\u001b[0m, in \u001b[0;36mappend\u001b[1;34m(arr, values, axis)\u001b[0m\n\u001b[0;32m   5390\u001b[0m     values \u001b[39m=\u001b[39m ravel(values)\n\u001b[0;32m   5391\u001b[0m     axis \u001b[39m=\u001b[39m arr\u001b[39m.\u001b[39mndim\u001b[39m-\u001b[39m\u001b[39m1\u001b[39m\n\u001b[1;32m-> 5392\u001b[0m \u001b[39mreturn\u001b[39;00m concatenate((arr, values), axis\u001b[39m=\u001b[39;49maxis)\n",
      "File \u001b[1;32m<__array_function__ internals>:180\u001b[0m, in \u001b[0;36mconcatenate\u001b[1;34m(*args, **kwargs)\u001b[0m\n",
      "\u001b[1;31mAxisError\u001b[0m: axis 2 is out of bounds for array of dimension 2"
     ]
    }
   ],
   "source": [
    "a=np.array([[255,255,255]])\n",
    "a=np.append(a, [[255,255,255]], 1)\n",
    "p=np.append(p, [[255,255,255]], 2)\n",
    "p=np.append(p, [[255,255,255]], 3)\n",
    "p=np.append(p, [[255,255,255]], 4)\n",
    "print(p)"
   ]
  },
  {
   "cell_type": "code",
   "execution_count": 174,
   "metadata": {},
   "outputs": [
    {
     "data": {
      "text/plain": [
       "array([[1, 2, 7],\n",
       "       [3, 4, 8],\n",
       "       [5, 6, 9]])"
      ]
     },
     "execution_count": 174,
     "metadata": {},
     "output_type": "execute_result"
    }
   ],
   "source": [
    "p = np.array([[1,2],[3,4]])\n",
    "p = np.append(p, [[5,6]], 0)\n",
    "p = np.append(p, [[7],[8],[9]],1)\n",
    "p"
   ]
  },
  {
   "cell_type": "code",
   "execution_count": 29,
   "metadata": {},
   "outputs": [
    {
     "name": "stdout",
     "output_type": "stream",
     "text": [
      "(MP0402, FF, 5, d740291) 20220811 094827469 (1)(2)(3).bmp None\n",
      "(MP0402, FF, 5, d740291) 20220811 095127950 (1)(2)(3).bmp None\n",
      "(MP0402, FF, 5, d740291) 20220811 095430666 (1)(2)(3).bmp None\n",
      "(MP0402, FF, 5, d740291) 20220811 095731847 (1)(2)(3).bmp None\n",
      "(MP0402, FF, 5, d740291) 20220811 100034183 (1)(2)(3).bmp None\n",
      "(MP0402, FF, 6, e3aa3f4) 20220811 094807189 (1)(2)(3).bmp None\n",
      "(MP0402, FF, 6, e3aa3f4) 20220811 095108944 (1)(2)(3).bmp None\n",
      "(MP0402, FF, 6, e3aa3f4) 20220811 095408789 (1)(2)(3).bmp None\n",
      "(MP0402, FF, 6, e3aa3f4) 20220811 095709371 (1)(2)(3).bmp None\n",
      "(MP0402, FF, 6, e3aa3f4) 20220811 100011953 (1)(2)(3).bmp None\n",
      "(MP0402, PF, 1, 1599fd81) 20220811 095812493 (1)(2)(3).bmp None\n",
      "(MP0402, PF, 2, 16e65142) 20220811 095141642 (1)(2)(3).bmp None\n",
      "(MP0402, PF, 2, 16e65142) 20220811 095517503 (1)(2)(3).bmp None\n",
      "(MP0402, PF, 2, 16e65142) 20220811 095853441 (1)(2)(3).bmp None\n",
      "(MP0402, PF, 3, 66f70c7) 20220811 095555618 (1)(2)(3).bmp None\n",
      "(MP0402, PF, 3, 66f70c7) 20220811 095929623 (1)(2)(3).bmp None\n",
      "(MP0402, PF, 4, 6110a43) 20220811 095531191 (1)(2)(3).bmp None\n",
      "(MP0402, PF, 4, 6110a43) 20220811 095907553 (1)(2)(3).bmp None\n"
     ]
    }
   ],
   "source": [
    "import os\n",
    "import imageio.v3 as iio\n",
    "import numpy as np\n",
    "new_dir = '\\\\\\mp0402ml\\\\c$\\MP04_FINAL_AI\\\\PROCESS'\n",
    "# print(os.listdir(new_dir))\n",
    "for filename in os.listdir(new_dir):\n",
    "    image = iio.imread(new_dir + '\\\\' + filename)\n",
    "    # image = image.reshape((200,200))\n",
    "    image = image.resize((200,200))\n",
    "    # image = np.expand_dims(image,axis=0)\n",
    "    print(filename,image)"
   ]
  },
  {
   "cell_type": "markdown",
   "metadata": {},
   "source": [
    "import re\n",
    "str = '(MP0402, PF, 4, 6110a43) 20220811 095907553 (1)(2)(3).bmp'\n"
   ]
  },
  {
   "cell_type": "code",
   "execution_count": 32,
   "metadata": {},
   "outputs": [
    {
     "name": "stdout",
     "output_type": "stream",
     "text": [
      "[',']\n"
     ]
    }
   ],
   "source": [
    "import re\n",
    "str = '(MP0402, PF, 4, 6110a43) 20220811 095907553 (1)(2)(3).bmp'\n",
    "str = re.sub(r\"[\\(\\)]\",' ,',str)\n",
    "str = re.split(str,',')\n",
    "print(str)"
   ]
  },
  {
   "cell_type": "code",
   "execution_count": 10,
   "metadata": {},
   "outputs": [
    {
     "name": "stdout",
     "output_type": "stream",
     "text": [
      "20220902_160221440860\n"
     ]
    }
   ],
   "source": [
    "import datetime;\n",
    "ct = datetime.datetime.now()\n",
    "ct = str(ct)\n",
    "ct = ct.replace('-','')\n",
    "ct = ct.replace(':','')\n",
    "ct = ct.replace('.','')\n",
    "ct = ct.replace(' ','_')\n",
    "print(ct)"
   ]
  },
  {
   "cell_type": "markdown",
   "metadata": {},
   "source": []
  }
 ],
 "metadata": {
  "kernelspec": {
   "display_name": "Python 3.8.0 64-bit",
   "language": "python",
   "name": "python3"
  },
  "language_info": {
   "codemirror_mode": {
    "name": "ipython",
    "version": 3
   },
   "file_extension": ".py",
   "mimetype": "text/x-python",
   "name": "python",
   "nbconvert_exporter": "python",
   "pygments_lexer": "ipython3",
   "version": "3.8.0"
  },
  "orig_nbformat": 4,
  "vscode": {
   "interpreter": {
    "hash": "570feb405e2e27c949193ac68f46852414290d515b0ba6e5d90d076ed2284471"
   }
  }
 },
 "nbformat": 4,
 "nbformat_minor": 2
}
