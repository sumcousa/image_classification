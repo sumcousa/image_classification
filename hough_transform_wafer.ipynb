{
 "cells": [
  {
   "cell_type": "code",
   "execution_count": 125,
   "metadata": {},
   "outputs": [
    {
     "data": {
      "text/plain": [
       "<matplotlib.image.AxesImage at 0x25e87329490>"
      ]
     },
     "execution_count": 125,
     "metadata": {},
     "output_type": "execute_result"
    },
    {
     "data": {
      "image/png": "[encoded data removed]",
      "text/plain": [
       "<Figure size 432x288 with 1 Axes>"
      ]
     },
     "metadata": {
      "needs_background": "light"
     },
     "output_type": "display_data"
    }
   ],
   "source": [
    "import numpy as np\n",
    "import imageio.v2 as imageio\n",
    "import math\n",
    "import hough_transform as ht\n",
    "import scipy.ndimage as ndimage\n",
    "import scipy.sparse as sparse\n",
    "import os\n",
    "import matplotlib.pyplot as plt\n",
    "import matplotlib.transforms as trans\n",
    "from matplotlib.colors import ListedColormap, BoundaryNorm\n",
    "from matplotlib import cm\n",
    "import cv2\n",
    "# col = np.array([1,2,3,5])\n",
    "# row = np.array([1,2,3,5])\n",
    "# data = np.array([1,1,1,1])\n",
    "row = np.array([2,3,4])\n",
    "col = np.array([2,3,4])\n",
    "data = np.array([110,110,110])\n",
    "arraysize = 40\n",
    "hough_space_size_divisor = 2\n",
    "threshold = 2   #fairly good, no effect changing from 1 through 10\n",
    "image = sparse.coo_matrix((data, (row,col)),shape=(arraysize, arraysize), dtype=float).toarray()\n",
    "plt.imshow(image, origin='lower')\n",
    "# image = np.full(shape=(3,3),fill_value=(data), dtype=float)"
   ]
  },
  {
   "cell_type": "code",
   "execution_count": 142,
   "metadata": {},
   "outputs": [
    {
     "name": "stdout",
     "output_type": "stream",
     "text": [
      "threshold 2\n",
      "maxima num_objects 12\n",
      "r 0.0\n",
      "theta radians 0.0\n",
      "theta degrees 0.0\n",
      "px []\n",
      "py []\n"
     ]
    },
    {
     "data": {
      "image/png": "[encoded data removed]",
      "text/plain": [
       "<Figure size 432x288 with 2 Axes>"
      ]
     },
     "metadata": {
      "needs_background": "light"
     },
     "output_type": "display_data"
    }
   ],
   "source": [
    "wafer_number = 55826023\n",
    "theta_max = 1.0 * math.pi \n",
    "theta_min = 0.0\n",
    "r_min = 0.0\n",
    "r_dim = arraysize \n",
    "theta_dim = arraysize\n",
    "\n",
    "plt.close()\n",
    "print('threshold',threshold)\n",
    "# print('image',image)\n",
    "# ax.plot(image, color='white')\n",
    "\n",
    "img_shape = image.shape\n",
    "x_max = img_shape[0]\n",
    "y_max = img_shape[1]\n",
    "r_max = math.hypot(x_max, y_max)\n",
    "# # print('x_max',x_max)\n",
    "# # print('y_max',y_max)\n",
    "# # print('r_max',r_max)\n",
    "\n",
    "fig, (ax1, ax2) = plt.subplots(1, 2, sharey=True)\n",
    "ax1.imshow(image)\n",
    "\n",
    "hough_space = np.zeros((r_dim,theta_dim), dtype='f')\n",
    "\n",
    "for x in range(x_max):\n",
    "    for y in range(y_max):\n",
    "        if image[x,y] == 255: continue\n",
    "        for itheta in range(theta_dim):\n",
    "            theta = 1.0 * itheta * theta_max / theta_dim\n",
    "            r = x * math.cos(theta) + y * math.sin(theta)\n",
    "            ir = np.ceil(r_dim * ( 1.0 * r ) / r_max).astype(int)\n",
    "            # print('ir',ir)\n",
    "            # print('itheta',itheta)\n",
    "            hough_space[ir,itheta] = hough_space[ir,itheta] + 1\n",
    "\n",
    "# ax1.plot(hough_space, color='white')#, markeredgecolor='blue', markerfacecolor='red',marker='o', linestyle='dashed', linewidth=1, markersize=1)\n",
    "ax2.imshow(hough_space, origin='lower')\n",
    "plt.xlim(0,theta_dim)\n",
    "plt.ylim(0,r_dim)\n",
    "\n",
    "tick_locs = [i for i in range(0,theta_dim,20)]\n",
    "tick_lbls = [round( (1.0 * i * theta_max) / theta_dim,1) for i in range(0,theta_dim,20)]\n",
    "plt.xticks(tick_locs, tick_lbls)\n",
    "\n",
    "tick_locs = [i for i in range(0,r_dim,20)]\n",
    "tick_lbls = [round( (1.0 * i * r_max ) / r_dim,1) for i in range(0,r_dim,20)]\n",
    "plt.yticks(tick_locs, tick_lbls)\n",
    "\n",
    "plt.xlabel(r'Theta')\n",
    "plt.ylabel(r'r')\n",
    "plt.title('Hough Space')\n",
    "\n",
    "# ax.plot(hough_space, color='white', markeredgecolor='blue', markerfacecolor='red',marker='o', linestyle='dashed', linewidth=2, markersize=12)\n",
    "\n",
    "# neighborhood_size = hough_space.size/hough_space_size_divisor\n",
    "# print('neighborhood_size',neighborhood_size)\n",
    "# # for neighborhood_size in range(10,300):\n",
    "# #     print('neighborhood_size',neighborhood_size)\n",
    "# # # neighborhood_size = 200   fairly good\n",
    "\n",
    "# data_min = ndimage.minimum_filter(hough_space, neighborhood_size)\n",
    "# data_max = ndimage.maximum_filter(hough_space, neighborhood_size)\n",
    "# maxima = (hough_space == data_max)\n",
    "\n",
    "# # print('data_min',data_min)\n",
    "# # print('data_max',data_max)\n",
    "# diff = ((data_max - data_min) > threshold)\n",
    "# # print('diff',diff)\n",
    "# maxima[diff == 0] = 0\n",
    "\n",
    "# # print('data_max',data_max)\n",
    "# # print('data_min',data_min)\n",
    "# # print('maxima',maxima)\n",
    "\n",
    "#labeled - An integer ndarray where each unique feature in input has a unique label in the returned array\n",
    "labeled, num_objects = ndimage.label(maxima) # non-zero values in input are features, num_objects are features found\n",
    "print('maxima num_objects',num_objects)\n",
    "# print('labeled',labeled)\n",
    "#slices - A list of tuples, with each tuple containing N slices (with N the dimension of the input array). \n",
    "# Slices correspond to the minimal parallelepiped that contains the object. If a number is missing, None is returned instead of a slice.\n",
    "slices = ndimage.find_objects(labeled) #Array containing objects defined by different labels. Labels with value 0 are ignored\n",
    "\n",
    "x, y = [], []\n",
    "for dy,dx in slices:\n",
    "    x_center = (dx.start + dx.stop - 1)/2\n",
    "    x.append(x_center)\n",
    "    y_center = (dy.start + dy.stop - 1)/2\n",
    "    y.append(y_center)\n",
    "\n",
    "# print('x_center',x_center)\n",
    "# print('y_center',y_center)\n",
    "# print('x',x)\n",
    "# print('y',y)\n",
    "# plt.imshow(hough_space, origin='lower')\n",
    "# plt.savefig('hough_space_i_j.png', bbox_inches = 'tight')\n",
    "\n",
    "# plt.xlabel(r'px')\n",
    "# plt.ylabel(r'py')\n",
    "# plt.title('Plot')\n",
    "# plt.autoscale(False)\n",
    "# plt.figure()\n",
    "# print('len(x)',len(x))\n",
    "# print('len(y)',len(y))\n",
    "#plt.savefig('hough_space_maximas.png', bbox_inches = 'tight')\n",
    "#plt.savefig(\"hough_space_r_theta.png\",bbox_inches='tight')\n",
    "\n",
    "# plt.close()\n",
    "\n",
    "line_index = 1\n",
    "\n",
    "i = y[0]\n",
    "j = x[0]\n",
    "\n",
    "# print('i',i)\n",
    "# print('j',j)\n",
    "# print('r_max',r_max)\n",
    "# print('r_dim',r_dim)\n",
    "# print('theta_max',theta_max)\n",
    "# print('theta_dim',theta_dim)\n",
    "\n",
    "r = round( (1.0 * i * r_max ) / r_dim,1)\n",
    "theta = round( (1.0 * j * theta_max) / theta_dim,1)\n",
    "\n",
    "print('r', r)\n",
    "print('theta radians', theta)\n",
    "print('theta degrees', np.rad2deg(theta))\n",
    "\n",
    "# ax1.autoscale(False)\n",
    "\n",
    "px = []\n",
    "py = []\n",
    "for i in range(0, np.int64(r), 1):\n",
    "   print('i',i)\n",
    "   px.append(math.cos(theta) * i)\n",
    "   py.append(math.sin(theta) * i)\n",
    "\n",
    "ax1.plot(image)\n",
    "print('px',px)\n",
    "print('py',py)\n",
    "\n",
    "# ax.plot(px, py, linewidth=1, linestyle=(2,(1,10)), color='green')\n",
    "# plt.show()\n",
    "# plt.close()"
   ]
  },
  {
   "cell_type": "code",
   "execution_count": 74,
   "metadata": {},
   "outputs": [
    {
     "data": {
      "image/png": "[encoded data removed]",
      "text/plain": [
       "<Figure size 432x288 with 1 Axes>"
      ]
     },
     "metadata": {
      "needs_background": "light"
     },
     "output_type": "display_data"
    }
   ],
   "source": [
    "col = np.array([1,2,3,5])\n",
    "row = np.array([1,2,3,5])\n",
    "data = np.array([1,1,1,1])\n",
    "image = sparse.coo_matrix((data, (row,col)),shape=(6, 6), dtype=float).toarray()\n",
    "ax = plt.axes()\n",
    "ax.set_facecolor('xkcd:blue')\n",
    "ax.tick_params(labelcolor='tab:green')\n",
    "fig = plt.figure(facecolor='white')\n",
    "# fig.patch.set_facecolor('xkcd:mint green')\n",
    "ax.plot(image, 'C1')\n",
    "# ax.imshow(image, origin='lower') #,cmap=plt.cm.Paired\n",
    "#image = np.zeros((50,50))\n",
    "#image[10:40, 10:40] = np.eye(30)\n",
    "# plt.imshow(image, cmap=plt.cm.Paired, origin='lower')\n",
    "# plt.show()\n",
    "plt.close()"
   ]
  },
  {
   "cell_type": "code",
   "execution_count": 136,
   "metadata": {},
   "outputs": [
    {
     "name": "stdout",
     "output_type": "stream",
     "text": [
      "image [[1. 0. 0.]\n",
      " [0. 1. 0.]\n",
      " [0. 0. 1.]]\n",
      "hough_space [[3. 1. 4.]\n",
      " [6. 8. 5.]\n",
      " [0. 0. 0.]]\n",
      "data_max [[3. 3. 4.]\n",
      " [6. 8. 8.]\n",
      " [6. 8. 8.]]\n"
     ]
    }
   ],
   "source": [
    "# data = np.array([1,2,3,4,5,6,7,8,9])\n",
    "\n",
    "r_dim = 3\n",
    "theta_dim = 3\n",
    "\n",
    "image = sparse.coo_matrix((data, (row,col)),shape=(3, 3), dtype=float).toarray()\n",
    "print('image',image)\n",
    "hough_space = np.zeros((r_dim,theta_dim), dtype='f')\n",
    "\n",
    "for x in range(r_dim):\n",
    "    for y in range(r_dim):\n",
    "        for itheta in range(theta_dim):\n",
    "            theta = 1.0 * itheta * theta_max / theta_dim\n",
    "            r = x * math.cos(theta) + y * math.sin(theta)\n",
    "            ir = np.ceil(r_dim * ( 1.0 * r ) / r_max).astype(int)\n",
    "            # print('ir',ir)\n",
    "            # print('itheta',itheta)\n",
    "            hough_space[ir,itheta] = hough_space[ir,itheta] + 1\n",
    "\n",
    "print('hough_space',hough_space)\n",
    "ax = plt.axes()\n",
    "ax.imshow(hough_space, origin='lower') #,cmap=plt.cm.Paired\n",
    "data_max = ndimage.maximum_filter(hough_space, 2)\n",
    "print('data_max',data_max)\n",
    "plt.close()"
   ]
  },
  {
   "cell_type": "code",
   "execution_count": 135,
   "metadata": {},
   "outputs": [
    {
     "name": "stdout",
     "output_type": "stream",
     "text": [
      "image [[1. 0. 0.]\n",
      " [0. 1. 0.]\n",
      " [0. 0. 1.]]\n",
      "x 0 y 0\n",
      "x0 0 x1 1 y0 0 y1 1\n",
      "max_pixel y loop 1.0\n",
      "u 0 v 0\n",
      "image[u, v] 1.0\n",
      "max_pixel final 1.0\n",
      "\n",
      "x 0 y 1\n",
      "x0 0 x1 1 y0 0 y1 2\n",
      "max_pixel y loop 0.0\n",
      "u 0 v 0\n",
      "image[u, v] 1.0\n",
      "max_pixel result 0.0\n",
      "u 0 v 1\n",
      "image[u, v] 0.0\n",
      "max_pixel final 1.0\n",
      "\n",
      "x 1 y 0\n",
      "x0 0 x1 2 y0 0 y1 1\n",
      "max_pixel y loop 0.0\n",
      "u 0 v 0\n",
      "image[u, v] 1.0\n",
      "max_pixel result 0.0\n",
      "u 1 v 0\n",
      "image[u, v] 0.0\n",
      "max_pixel final 1.0\n",
      "\n",
      "x 1 y 1\n",
      "x0 0 x1 2 y0 0 y1 2\n",
      "max_pixel y loop 1.0\n",
      "u 0 v 0\n",
      "image[u, v] 1.0\n",
      "u 0 v 1\n",
      "image[u, v] 0.0\n",
      "u 1 v 0\n",
      "image[u, v] 0.0\n",
      "u 1 v 1\n",
      "image[u, v] 1.0\n",
      "max_pixel final 1.0\n",
      "\n",
      "result [[1. 1. 0.]\n",
      " [1. 1. 0.]\n",
      " [0. 0. 0.]]\n",
      "data_max [[1. 1. 0.]\n",
      " [1. 1. 1.]\n",
      " [0. 1. 1.]]\n"
     ]
    }
   ],
   "source": [
    "image_width = 3\n",
    "image_height = 3\n",
    "radius = 1\n",
    "row = np.array([0,0,0,1,1,1,2,2,2])\n",
    "col = np.array([0,1,2,0,1,2,0,1,2])\n",
    "data = np.array([1,0,0,0,1,0,0,0,1])\n",
    "\n",
    "image = sparse.coo_matrix((data, (row,col)),shape=(image_width, image_height), dtype=float).toarray()\n",
    "result = np.zeros((image_width,image_height))\n",
    "\n",
    "print('image',image)\n",
    "\n",
    "for x in range(0,image_width-1,1):\n",
    "\n",
    "    x0 = max(0, x - radius)\n",
    "    x1 = min(image_width - 1, x + radius)\n",
    "\n",
    "    for y in range(0,image_height-1,1):\n",
    "    \n",
    "        print('x',x,'y',y)\n",
    "        y0 = max(0, y - radius)\n",
    "        y1 = min(image_height - 1, y + radius)\n",
    "        max_pixel = image[x, y]\n",
    "\n",
    "        print('x0',x0,'x1',x1,'y0',y0,'y1',y1)\n",
    "        print('max_pixel y loop',max_pixel)\n",
    "\n",
    "        for u in range(x0,x1,1):\n",
    "\n",
    "            for v in range(y0,y1,1):\n",
    "\n",
    "                print('u',u,'v',v)\n",
    "                print('image[u, v]',image[u, v])\n",
    "\n",
    "                if image[u, v] > max_pixel:\n",
    "\n",
    "                    print('max_pixel result',max_pixel)\n",
    "                    max_pixel = image[u, v]\n",
    "\n",
    "        print('max_pixel final',max_pixel)\n",
    "        result[x, y] = max_pixel\n",
    "        print('')\n",
    "\n",
    "print('result',result)\n",
    "\n",
    "data_max = ndimage.maximum_filter(image, 2)\n",
    "print('data_max',data_max)"
   ]
  },
  {
   "cell_type": "code",
   "execution_count": 44,
   "metadata": {},
   "outputs": [
    {
     "name": "stdout",
     "output_type": "stream",
     "text": [
      "len(edges) 302\n"
     ]
    },
    {
     "data": {
      "image/png": "[encoded data removed]",
      "text/plain": [
       "<Figure size 432x288 with 1 Axes>"
      ]
     },
     "metadata": {
      "needs_background": "light"
     },
     "output_type": "display_data"
    }
   ],
   "source": [
    "plt.close()\n",
    "# img = plt.imshow(image, origin='lower', cmap='gray', vmin=0, vmax=255)\n",
    "plt.savefig(\"image.png\",bbox_inches='tight')\n",
    "src = cv2.imread(\"image.png\", cv2.IMREAD_GRAYSCALE)\n",
    "plt.imshow(src, cmap='gray', origin='lower',vmin=0,vmax=0)\n",
    "# gray = cv2.cvtColor(src,cv2.COLOR_BGR2GRAY)\n",
    "edges = cv2.Canny(src,0,255,apertureSize = 3)\n",
    "print('len(edges)',len(edges))\n",
    "cdst = cv2.cvtColor(edges, cv2.COLOR_GRAY2BGR)\n",
    "lines = cv2.HoughLines(edges,1,np.pi/180, 1)#.astype(int)\n",
    "\n",
    "print('lines.len: ',len(lines),'lines[0]: ',lines[0])\n",
    "# if lines is not None:\n",
    "#     for i in range(0, len(lines)):\n",
    "#         rho = lines[i][0][0]\n",
    "#         theta = lines[i][0][1]\n",
    "#         pt1 = int(rho * math.cos(theta)), int(rho * math.sin(theta))\n",
    "#         pt2 = int(rho * math.sin((math.pi/2) - theta)) , int(rho * math.cos((math.pi/2) - theta))\n",
    "#         print('rho: ',rho,'theta: ',theta,'pt1: ',pt1,'pt2: ',pt2)\n",
    "#         cv2.line(cdst, pt1, pt2, (0,0,255), 10, cv2.LINE_AA)\n",
    "\n",
    "# plt.xlabel(r'Theta')\n",
    "# plt.ylabel(r'r')\n",
    "# plt.title('Hough Space')\n",
    "# plt.imshow(src, origin='lower')\n",
    "# plt.imshow(cdst, origin='lower')"
   ]
  },
  {
   "cell_type": "code",
   "execution_count": 69,
   "metadata": {},
   "outputs": [
    {
     "ename": "AttributeError",
     "evalue": "type object 'ListedColormap' has no attribute 'colormaps'",
     "output_type": "error",
     "traceback": [
      "\u001b[1;31m---------------------------------------------------------------------------\u001b[0m",
      "\u001b[1;31mAttributeError\u001b[0m                            Traceback (most recent call last)",
      "\u001b[1;32mc:\\Github\\repository\\image_classification\\hough_transform_wafer.ipynb Cell 7'\u001b[0m in \u001b[0;36m<cell line: 5>\u001b[1;34m()\u001b[0m\n\u001b[0;32m      <a href='vscode-notebook-cell:/c%3A/Github/repository/image_classification/hough_transform_wafer.ipynb#ch0000007?line=2'>3</a>\u001b[0m np\u001b[39m.\u001b[39mrandom\u001b[39m.\u001b[39mseed(\u001b[39m19680801\u001b[39m)\n\u001b[0;32m      <a href='vscode-notebook-cell:/c%3A/Github/repository/image_classification/hough_transform_wafer.ipynb#ch0000007?line=3'>4</a>\u001b[0m data \u001b[39m=\u001b[39m np\u001b[39m.\u001b[39mrandom\u001b[39m.\u001b[39mrandn(\u001b[39m30\u001b[39m, \u001b[39m30\u001b[39m)\n\u001b[1;32m----> <a href='vscode-notebook-cell:/c%3A/Github/repository/image_classification/hough_transform_wafer.ipynb#ch0000007?line=4'>5</a>\u001b[0m n \u001b[39m=\u001b[39m \u001b[39mlen\u001b[39m(ListedColormap\u001b[39m.\u001b[39;49mcolormaps)\n\u001b[0;32m      <a href='vscode-notebook-cell:/c%3A/Github/repository/image_classification/hough_transform_wafer.ipynb#ch0000007?line=5'>6</a>\u001b[0m fig, axs \u001b[39m=\u001b[39m plt\u001b[39m.\u001b[39msubplots(\u001b[39m1\u001b[39m, n, figsize\u001b[39m=\u001b[39m(n \u001b[39m*\u001b[39m \u001b[39m2\u001b[39m \u001b[39m+\u001b[39m \u001b[39m2\u001b[39m, \u001b[39m3\u001b[39m),\n\u001b[0;32m      <a href='vscode-notebook-cell:/c%3A/Github/repository/image_classification/hough_transform_wafer.ipynb#ch0000007?line=6'>7</a>\u001b[0m                         constrained_layout\u001b[39m=\u001b[39m\u001b[39mTrue\u001b[39;00m, squeeze\u001b[39m=\u001b[39m\u001b[39mFalse\u001b[39;00m)\n\u001b[0;32m      <a href='vscode-notebook-cell:/c%3A/Github/repository/image_classification/hough_transform_wafer.ipynb#ch0000007?line=7'>8</a>\u001b[0m \u001b[39mfor\u001b[39;00m [ax, cmap] \u001b[39min\u001b[39;00m \u001b[39mzip\u001b[39m(axs\u001b[39m.\u001b[39mflat, colormaps):\n",
      "\u001b[1;31mAttributeError\u001b[0m: type object 'ListedColormap' has no attribute 'colormaps'"
     ]
    }
   ],
   "source": [
    "from matplotlib import cm\n",
    "from matplotlib.colors import ListedColormap, LinearSegmentedColormap\n",
    "np.random.seed(19680801)\n",
    "data = np.random.randn(30, 30)\n",
    "n = len(ListedColormap.colormaps)\n",
    "fig, axs = plt.subplots(1, n, figsize=(n * 2 + 2, 3),\n",
    "                        constrained_layout=True, squeeze=False)\n",
    "for [ax, cmap] in zip(axs.flat, colormaps):\n",
    "    psm = ax.pcolormesh(data, cmap=cmap, rasterized=True, vmin=-4, vmax=4)\n",
    "    fig.colorbar(psm, ax=ax)\n",
    "plt.show()"
   ]
  },
  {
   "cell_type": "code",
   "execution_count": null,
   "metadata": {},
   "outputs": [],
   "source": []
  }
 ],
 "metadata": {
  "interpreter": {
   "hash": "570feb405e2e27c949193ac68f46852414290d515b0ba6e5d90d076ed2284471"
  },
  "kernelspec": {
   "display_name": "Python 3.8.0 64-bit",
   "language": "python",
   "name": "python3"
  },
  "language_info": {
   "codemirror_mode": {
    "name": "ipython",
    "version": 3
   },
   "file_extension": ".py",
   "mimetype": "text/x-python",
   "name": "python",
   "nbconvert_exporter": "python",
   "pygments_lexer": "ipython3",
   "version": "3.8.0"
  },
  "orig_nbformat": 4
 },
 "nbformat": 4,
 "nbformat_minor": 2
}
