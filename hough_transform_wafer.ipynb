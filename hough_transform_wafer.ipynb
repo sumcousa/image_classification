{
 "cells": [
  {
   "cell_type": "code",
   "execution_count": 42,
   "metadata": {},
   "outputs": [
    {
     "name": "stdout",
     "output_type": "stream",
     "text": [
      "r_max 2828.42712474619\n"
     ]
    },
    {
     "ename": "KeyboardInterrupt",
     "evalue": "",
     "output_type": "error",
     "traceback": [
      "\u001b[1;31m---------------------------------------------------------------------------\u001b[0m",
      "\u001b[1;31mKeyboardInterrupt\u001b[0m                         Traceback (most recent call last)",
      "\u001b[1;32mc:\\Github\\repository\\image_classification\\hough_transform_wafer.ipynb Cell 1'\u001b[0m in \u001b[0;36m<cell line: 38>\u001b[1;34m()\u001b[0m\n\u001b[0;32m     <a href='vscode-notebook-cell:/c%3A/Github/repository/image_classification/hough_transform_wafer.ipynb#ch0000000?line=43'>44</a>\u001b[0m             ir \u001b[39m=\u001b[39m np\u001b[39m.\u001b[39mceil(r_dim \u001b[39m*\u001b[39m ( \u001b[39m1.0\u001b[39m \u001b[39m*\u001b[39m r ) \u001b[39m/\u001b[39m r_max)\u001b[39m.\u001b[39mastype(\u001b[39mint\u001b[39m)\n\u001b[0;32m     <a href='vscode-notebook-cell:/c%3A/Github/repository/image_classification/hough_transform_wafer.ipynb#ch0000000?line=44'>45</a>\u001b[0m             \u001b[39m# print('ir',ir)\u001b[39;00m\n\u001b[0;32m     <a href='vscode-notebook-cell:/c%3A/Github/repository/image_classification/hough_transform_wafer.ipynb#ch0000000?line=45'>46</a>\u001b[0m             \u001b[39m# print('itheta',itheta)\u001b[39;00m\n\u001b[1;32m---> <a href='vscode-notebook-cell:/c%3A/Github/repository/image_classification/hough_transform_wafer.ipynb#ch0000000?line=46'>47</a>\u001b[0m             hough_space[ir,itheta] \u001b[39m=\u001b[39m hough_space[ir,itheta] \u001b[39m+\u001b[39;49m \u001b[39m1\u001b[39;49m\n\u001b[0;32m     <a href='vscode-notebook-cell:/c%3A/Github/repository/image_classification/hough_transform_wafer.ipynb#ch0000000?line=48'>49</a>\u001b[0m \u001b[39m# plt.imshow(hough_space, origin='lower')\u001b[39;00m\n\u001b[0;32m     <a href='vscode-notebook-cell:/c%3A/Github/repository/image_classification/hough_transform_wafer.ipynb#ch0000000?line=49'>50</a>\u001b[0m plt\u001b[39m.\u001b[39mxlim(\u001b[39m0\u001b[39m,theta_dim)\n",
      "\u001b[1;31mKeyboardInterrupt\u001b[0m: "
     ]
    },
    {
     "data": {
      "image/png": "[encoded data removed]",
      "text/plain": [
       "<Figure size 432x288 with 1 Axes>"
      ]
     },
     "metadata": {
      "needs_background": "light"
     },
     "output_type": "display_data"
    }
   ],
   "source": [
    "import numpy as np\n",
    "import imageio.v2 as imageio\n",
    "import math\n",
    "import hough_transform as ht\n",
    "import scipy.ndimage as ndimage\n",
    "import scipy.sparse as sparse\n",
    "import os\n",
    "import matplotlib.pyplot as plt\n",
    "import matplotlib.transforms as trans\n",
    "import cv2\n",
    "\n",
    "col = np.array([1595.45,1351.52,607.43,599.38,987.86,264.89,1897.73,531.53,1624.49,1046.86,409.3,1047.52,1011.22,1032.34,1595.45,1351.52,607.43,599.38,987.86,264.89,1897.73,531.53,1624.49,1046.86,409.3,1047.52,1011.22,1032.34])\n",
    "row = np.array([237.1,1914.85,1770.4,1399.6,1162.9,1139.95,1044.4,857.95,710.35,643.9,511,400.6,396.85,329.65,237.1,1914.85,1770.4,1399.6,1162.9,1139.95,1044.4,857.95,710.35,643.9,511,400.6,396.85,329.65])\n",
    "data = np.array([1,1,1,1,1,1,1,1,1,1,1,1,1,1,1,1,1,1,1,1,1,1,1,1,1,1,1,1])\n",
    "image = sparse.coo_matrix((data, (row,col)),shape=(2000, 2000), dtype=float).toarray()\n",
    "\n",
    "# image = np.zeros((50,50))\n",
    "# image[10:40, 10:40] = np.eye(30)\n",
    "plt.imshow(image, origin='lower')\n",
    "\n",
    "img_shape = image.shape\n",
    "\n",
    "x_max = img_shape[0]\n",
    "y_max = img_shape[1]\n",
    "\n",
    "theta_max = 1.0 * math.pi \n",
    "theta_min = 0.0\n",
    "\n",
    "r_min = 0.0\n",
    "r_max = math.hypot(x_max, y_max)\n",
    "print('r_max',r_max)\n",
    "\n",
    "r_dim = 100 \n",
    "theta_dim = 300\n",
    "\n",
    "hough_space = np.zeros((r_dim,theta_dim))\n",
    "\n",
    "for x in range(x_max):\n",
    "    for y in range(y_max):\n",
    "        if image[x,y] == 255: continue\n",
    "        for itheta in range(theta_dim):\n",
    "            theta = 1.0 * itheta * theta_max / theta_dim\n",
    "            r = x * math.cos(theta) + y * math.sin(theta)\n",
    "            ir = np.ceil(r_dim * ( 1.0 * r ) / r_max).astype(int)\n",
    "            # print('ir',ir)\n",
    "            # print('itheta',itheta)\n",
    "            hough_space[ir,itheta] = hough_space[ir,itheta] + 1\n",
    "\n",
    "# plt.imshow(hough_space, origin='lower')\n",
    "plt.xlim(0,theta_dim)\n",
    "plt.ylim(0,r_dim)\n",
    "\n",
    "tick_locs = [i for i in range(0,theta_dim,40)]\n",
    "tick_lbls = [round( (1.0 * i * theta_max) / theta_dim,1) for i in range(0,theta_dim,40)]\n",
    "plt.xticks(tick_locs, tick_lbls)\n",
    "\n",
    "tick_locs = [i for i in range(0,r_dim,20)]\n",
    "tick_lbls = [round( (1.0 * i * r_max ) / r_dim,1) for i in range(0,r_dim,20)]\n",
    "plt.yticks(tick_locs, tick_lbls)\n",
    "\n",
    "plt.xlabel(r'Theta')\n",
    "plt.ylabel(r'r')\n",
    "plt.title('Hough Space')\n",
    "\n",
    "plt.imshow(hough_space)\n",
    "\n",
    "neighborhood_size = hough_space.size/10\n",
    "print('neighborhood_size',neighborhood_size)\n",
    "# for neighborhood_size in range(10,300):\n",
    "    # print('neighborhood_size',neighborhood_size)\n",
    "# neighborhood_size = 200   fairly good\n",
    "threshold = 5             #fairly good, no effect changing from 1 through 10\n",
    "\n",
    "data_max = ndimage.maximum_filter(hough_space, neighborhood_size)\n",
    "maxima = (hough_space == data_max)\n",
    "\n",
    "data_min = ndimage.minimum_filter(hough_space, neighborhood_size)\n",
    "diff = ((data_max - data_min) > threshold)\n",
    "maxima[diff == 0] = 0\n",
    "\n",
    "labeled, num_objects = ndimage.label(maxima)\n",
    "slices = ndimage.find_objects(labeled)\n",
    "\n",
    "x, y = [], []\n",
    "for dy,dx in slices:\n",
    "    x_center = (dx.start + dx.stop - 1)/2\n",
    "    x.append(x_center)\n",
    "    y_center = (dy.start + dy.stop - 1)/2    \n",
    "    y.append(y_center)\n",
    "\n",
    "# print('x',x)\n",
    "# print('y',y)\n",
    "\n",
    "# plt.imshow(hough_space, origin='lower')\n",
    "# plt.savefig('hough_space_i_j.png', bbox_inches = 'tight')\n",
    "\n",
    "plt.autoscale(False)\n",
    "plt.plot(x,y, 'ro')\n",
    "plt.figure()\n",
    "# print('len(x)',len(x))\n",
    "# print('len(y)',len(y))\n",
    "# plt.savefig('hough_space_maximas.png', bbox_inches = 'tight')\n",
    "#plt.savefig(\"hough_space_r_theta.png\",bbox_inches='tight')\n",
    "\n",
    "#plt.close()\n",
    "\n",
    "line_index = 1\n",
    "\n",
    "# print('x[0]',x[0])\n",
    "# print('y[0]',y[0])\n",
    "i = y[0]\n",
    "j = x[0]\n",
    "\n",
    "# print i,j\n",
    "\n",
    "print('r_max',r_max)\n",
    "print('r_dim',r_dim)\n",
    "\n",
    "r = round( (1.0 * i * r_max ) / r_dim,1)\n",
    "theta = round( (1.0 * j * theta_max) / theta_dim,1)\n",
    "\n",
    "print('r', r)\n",
    "print('theta', np.rad2deg(theta))\n",
    "\n",
    "fig, ax = plt.subplots()\n",
    "\n",
    "ax.imshow(image, origin='lower')\n",
    "\n",
    "ax.autoscale(False)\n",
    "\n",
    "print('Y_MAX',y_max)\n",
    "\n",
    "px = []\n",
    "py = []\n",
    "for i in range(0, np.int64(r_max), 1):\n",
    "   px.append(math.cos(theta) * i)\n",
    "   py.append(math.sin(theta) * i)\n",
    "\n",
    "# print('px',px)\n",
    "# print('py',py)\n",
    "\n",
    "ax.plot(px, py, 'b+', linewidth=1)\n",
    "plt.show()"
   ]
  },
  {
   "cell_type": "code",
   "execution_count": 44,
   "metadata": {},
   "outputs": [
    {
     "data": {
      "text/plain": [
       "<matplotlib.image.AxesImage at 0x99adca2c220>"
      ]
     },
     "execution_count": 44,
     "metadata": {},
     "output_type": "execute_result"
    },
    {
     "data": {
      "image/png": "[encoded data removed]",
      "text/plain": [
       "<Figure size 432x288 with 1 Axes>"
      ]
     },
     "metadata": {
      "needs_background": "light"
     },
     "output_type": "display_data"
    }
   ],
   "source": [
    "import numpy as np\n",
    "import imageio.v2 as imageio\n",
    "import math\n",
    "import hough_transform as ht\n",
    "import scipy.ndimage as ndimage\n",
    "import scipy.sparse as sparse\n",
    "import os\n",
    "import matplotlib.pyplot as plt\n",
    "import matplotlib.transforms as trans\n",
    "import cv2\n",
    "\n",
    "col = np.array([159.545,135.152,60.743,59.938,98.786,26.489,189.773,53.153,162.449,104.686,40.93,104.752,101.122,103.234,159.545,135.152,60.743,59.938,98.786,26.489,189.773,53.153,162.449,104.686,40.93,104.752,101.122,103.234])\n",
    "row = np.array([23.71,191.485,177.04,139.96,116.29,113.995,104.44,85.795,71.035,64.39,51.1,40.06,39.685,32.965,23.71,191.485,177.04,139.96,116.29,113.995,104.44,85.795,71.035,64.39,51.1,40.06,39.685,32.965])\n",
    "data = np.array([1,1,1,1,1,1,1,1,1,1,1,1,1,1,1,1,1,1,1,1,1,1,1,1,1,1,1,1])\n",
    "mat = sparse.coo_matrix((data, (row,col)),shape=(200, 200), dtype=float).toarray()\n",
    "plt.imshow(mat) #, origin='lower'"
   ]
  },
  {
   "cell_type": "code",
   "execution_count": 35,
   "metadata": {},
   "outputs": [
    {
     "data": {
      "text/plain": [
       "<matplotlib.image.AxesImage at 0x518055d3880>"
      ]
     },
     "execution_count": 35,
     "metadata": {},
     "output_type": "execute_result"
    },
    {
     "data": {
      "image/png": "[encoded data removed]",
      "text/plain": [
       "<Figure size 432x288 with 1 Axes>"
      ]
     },
     "metadata": {
      "needs_background": "light"
     },
     "output_type": "display_data"
    }
   ],
   "source": [
    "row  = np.array([0, 3, 1, 0])\n",
    "col  = np.array([0, 3, 1, 2])\n",
    "data = np.array([4, 5, 7, 9])\n",
    "mat = sparse.coo_matrix((data, (row, col)), shape=(10, 10)).toarray()\n",
    "plt.imshow(mat) #, origin='lower'"
   ]
  },
  {
   "cell_type": "code",
   "execution_count": null,
   "metadata": {},
   "outputs": [],
   "source": []
  }
 ],
 "metadata": {
  "interpreter": {
   "hash": "570feb405e2e27c949193ac68f46852414290d515b0ba6e5d90d076ed2284471"
  },
  "kernelspec": {
   "display_name": "Python 3.8.0 64-bit",
   "language": "python",
   "name": "python3"
  },
  "language_info": {
   "codemirror_mode": {
    "name": "ipython",
    "version": 3
   },
   "file_extension": ".py",
   "mimetype": "text/x-python",
   "name": "python",
   "nbconvert_exporter": "python",
   "pygments_lexer": "ipython3",
   "version": "3.8.0"
  },
  "orig_nbformat": 4
 },
 "nbformat": 4,
 "nbformat_minor": 2
}
